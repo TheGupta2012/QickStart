{
 "cells": [
  {
   "cell_type": "code",
   "execution_count": 3,
   "id": "21788c40",
   "metadata": {},
   "outputs": [],
   "source": [
    "#Testcase generator for problem-5 task-2\n",
    "import random\n",
    "\n",
    "path = \"task-2-\"\n",
    "\n",
    "for i in range(0, 10):\n",
    "    N = [1,2,4,8,16]\n",
    "    n = random.choice(N)\n",
    "    m = random.randint(1,128)\n",
    "    l = []\n",
    "    for j in range(0,n):\n",
    "        a = random.randint(1,m)\n",
    "        l.append(a)\n",
    "        \n",
    "        \n",
    "    f_path = path + str(i) + \".txt\"\n",
    "    \n",
    "    file = open(f_path, mode=\"w\", newline=\"\\n\")\n",
    "\n",
    "    file.write(str(n) + \" \" + str(m) + \"\\n\")\n",
    "\n",
    "    for j in l:\n",
    "        file.write(str(j)+ \" \")\n",
    "    file.write(\"\\n\")\n",
    "\n",
    "    file.close()"
   ]
  },
  {
   "cell_type": "code",
   "execution_count": null,
   "id": "30a17058",
   "metadata": {},
   "outputs": [],
   "source": []
  }
 ],
 "metadata": {
  "kernelspec": {
   "display_name": "Python 3 (ipykernel)",
   "language": "python",
   "name": "python3"
  },
  "language_info": {
   "codemirror_mode": {
    "name": "ipython",
    "version": 3
   },
   "file_extension": ".py",
   "mimetype": "text/x-python",
   "name": "python",
   "nbconvert_exporter": "python",
   "pygments_lexer": "ipython3",
   "version": "3.10.0"
  }
 },
 "nbformat": 4,
 "nbformat_minor": 5
}
