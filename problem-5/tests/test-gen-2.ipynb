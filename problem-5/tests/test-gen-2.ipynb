{
 "cells": [
  {
   "cell_type": "code",
   "execution_count": 1,
   "id": "64fe0ce0",
   "metadata": {},
   "outputs": [],
   "source": [
    "#Testcase generator for problem-5 task-3\n",
    "import random\n",
    "\n",
    "path = \"task-3-\"\n",
    "\n",
    "for i in range(0, 10):\n",
    "    N = [1,2,4,8,16]\n",
    "    n = random.choice(N)\n",
    "    c = ['x','y','z']\n",
    "    l = []\n",
    "    for j in range(0,n):\n",
    "        a = random.uniform(-1,1)\n",
    "        l.append(a)\n",
    "        \n",
    "        \n",
    "    f_path = path + str(i) + \".txt\"\n",
    "    \n",
    "    file = open(f_path, mode=\"w\", newline=\"\\n\")\n",
    "\n",
    "    file.write(str(n) + \"\\n\")\n",
    "\n",
    "    for j in l:\n",
    "        letter = random.choice(c)\n",
    "        file.write(letter + \" \" + str(j) + \"\\n\")\n",
    "\n",
    "    file.close()"
   ]
  },
  {
   "cell_type": "code",
   "execution_count": null,
   "id": "240b0994",
   "metadata": {},
   "outputs": [],
   "source": []
  }
 ],
 "metadata": {
  "kernelspec": {
   "display_name": "Python 3 (ipykernel)",
   "language": "python",
   "name": "python3"
  },
  "language_info": {
   "codemirror_mode": {
    "name": "ipython",
    "version": 3
   },
   "file_extension": ".py",
   "mimetype": "text/x-python",
   "name": "python",
   "nbconvert_exporter": "python",
   "pygments_lexer": "ipython3",
   "version": "3.10.0"
  }
 },
 "nbformat": 4,
 "nbformat_minor": 5
}
