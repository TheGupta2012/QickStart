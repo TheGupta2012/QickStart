{
 "cells": [
  {
   "cell_type": "markdown",
   "id": "05604264",
   "metadata": {},
   "source": [
    "# QRAM Implementation \n",
    "\n",
    "> Link : https://github.com/XanaduAI/QHack/blob/master/Coding_Challenges/qml_400_BuildingQRAM_template/problem.pdf"
   ]
  },
  {
   "cell_type": "markdown",
   "id": "c1315c5a",
   "metadata": {},
   "source": [
    "## Task 1 \n",
    "- N =4, Array = [1, 0, 1, 0] "
   ]
  },
  {
   "cell_type": "markdown",
   "id": "18f53617",
   "metadata": {},
   "source": [
    "## Task 2 \n",
    "- Xanadu direct -> N = 8, array = [1, 2, 0, 1, 1, 3, 2, 2]"
   ]
  },
  {
   "cell_type": "markdown",
   "id": "9399adcc",
   "metadata": {},
   "source": [
    "## Task 3 \n",
    "- N -> {1, 2, 4, 8, 16} M -> [1,16] for the qram building \n"
   ]
  },
  {
   "cell_type": "code",
   "execution_count": null,
   "id": "54fb3f69",
   "metadata": {},
   "outputs": [],
   "source": []
  },
  {
   "cell_type": "code",
   "execution_count": null,
   "id": "bf7824ce",
   "metadata": {},
   "outputs": [],
   "source": []
  }
 ],
 "metadata": {
  "kernelspec": {
   "display_name": "Python 3",
   "language": "python",
   "name": "python3"
  },
  "language_info": {
   "codemirror_mode": {
    "name": "ipython",
    "version": 3
   },
   "file_extension": ".py",
   "mimetype": "text/x-python",
   "name": "python",
   "nbconvert_exporter": "python",
   "pygments_lexer": "ipython3",
   "version": "3.8.10"
  }
 },
 "nbformat": 4,
 "nbformat_minor": 5
}
