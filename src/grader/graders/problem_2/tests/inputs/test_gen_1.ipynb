{
 "cells": [
  {
   "cell_type": "code",
   "execution_count": 2,
   "id": "51426133",
   "metadata": {
    "ExecuteTime": {
     "end_time": "2022-10-05T07:31:02.379988Z",
     "start_time": "2022-10-05T07:31:02.370131Z"
    }
   },
   "outputs": [],
   "source": [
    "from networkx.generators.random_graphs import path_graph\n",
    "import numpy as np\n",
    "import random\n",
    "\n",
    "# Input format: First line contains two space separated integers N and M\n",
    "# Following M lines contains two space separated integers representing an edge\n",
    "# Integer Q\n",
    "# Following Q lines are queries\n",
    "path = \"task-1-\"\n",
    "\n",
    "for i in range(0, 10):\n",
    "    f_path = path + str(i) + \".txt\"\n",
    "    n = np.random.randint(2, 101)\n",
    "\n",
    "    q = np.random.randint(1, n-1)\n",
    "    \n",
    "    g = path_graph(n)\n",
    "    \n",
    "    edges = g.edges\n",
    "    controls = random.sample(range(1,n), q)\n",
    "    targets = random.sample(range(1, n), q)\n",
    "    \n",
    "    \n",
    "    l = [(x,y) for x,y in zip(controls, targets)]\n",
    "    \n",
    "    file = open(f_path, mode=\"w\", newline=\"\\n\")\n",
    "\n",
    "    file.write(str(n) + \" \" + str(n-1) + \"\\n\")\n",
    "\n",
    "    for i in edges:\n",
    "        for j in i:\n",
    "            file.write(str(j+1) + \" \")\n",
    "        file.write(\"\\n\")\n",
    "    \n",
    "    file.write(str(q) + \"\\n\")\n",
    "    \n",
    "    for i in l:\n",
    "        if i[0] == i[1]:\n",
    "            i = (i[0], i[0] + 1)\n",
    "        for j in i:\n",
    "            file.write(str(j+1) + \" \")\n",
    "        file.write(\"\\n\")\n",
    "\n",
    "    file.close()"
   ]
  },
  {
   "cell_type": "code",
   "execution_count": null,
   "id": "58d8d4b2",
   "metadata": {},
   "outputs": [],
   "source": []
  }
 ],
 "metadata": {
  "kernelspec": {
   "display_name": "Python 3",
   "language": "python",
   "name": "python3"
  },
  "language_info": {
   "codemirror_mode": {
    "name": "ipython",
    "version": 3
   },
   "file_extension": ".py",
   "mimetype": "text/x-python",
   "name": "python",
   "nbconvert_exporter": "python",
   "pygments_lexer": "ipython3",
   "version": "3.8.10"
  }
 },
 "nbformat": 4,
 "nbformat_minor": 5
}
