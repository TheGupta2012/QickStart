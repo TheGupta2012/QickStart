{
 "cells": [
  {
   "cell_type": "code",
   "execution_count": 8,
   "id": "bbebc3e3",
   "metadata": {},
   "outputs": [],
   "source": [
    "import numpy as np\n",
    "import random\n",
    "\n",
    "# print(np.random.binomial(n=1, p=0.5, size=[10]))\n",
    "path = \"task-3-\"\n",
    "\n",
    "for i in range(0, 10):\n",
    "    f_path = path + str(i) + \".txt\"\n",
    "    N = [4,8,16,32]\n",
    "    n = random.choice(N)\n",
    "    k = random.randint(1,6)\n",
    "    \n",
    "    b = [] \n",
    "    c = []\n",
    "    \n",
    "    file = open(f_path, mode=\"w\", newline=\"\\n\")\n",
    "    file.write(str(n) + \" \" + str(k) + \"\\n\")\n",
    "    \n",
    "    if(k > 2):\n",
    "        for j in range(0,k-2):\n",
    "            b.append(np.random.binomial(n=1, p=0.5, size=[n]))\n",
    "        c.append(np.ones(n))\n",
    "        c.append(np.zeros(n))\n",
    "        \n",
    "    else:\n",
    "        for j in range(0,k):\n",
    "            b.append(np.random.binomial(n=1, p=0.5, size=[n]))\n",
    "    \n",
    "    for j in b:\n",
    "        file.write(\"B\\n\")\n",
    "        for k in j:\n",
    "            file.write(str(k) + \" \")\n",
    "        file.write(\"\\n\")\n",
    "    \n",
    "    for j in c:\n",
    "        file.write(\"C\\n\")\n",
    "        for k in j:\n",
    "            file.write(str(int(k)) + \" \")\n",
    "        file.write(\"\\n\")\n",
    "        \n",
    "    file.close()"
   ]
  },
  {
   "cell_type": "code",
   "execution_count": null,
   "id": "8e19b414",
   "metadata": {},
   "outputs": [],
   "source": []
  }
 ],
 "metadata": {
  "kernelspec": {
   "display_name": "Python 3 (ipykernel)",
   "language": "python",
   "name": "python3"
  },
  "language_info": {
   "codemirror_mode": {
    "name": "ipython",
    "version": 3
   },
   "file_extension": ".py",
   "mimetype": "text/x-python",
   "name": "python",
   "nbconvert_exporter": "python",
   "pygments_lexer": "ipython3",
   "version": "3.10.0"
  }
 },
 "nbformat": 4,
 "nbformat_minor": 5
}
