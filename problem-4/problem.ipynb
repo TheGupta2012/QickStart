{
 "cells": [
  {
   "cell_type": "markdown",
   "id": "469c4405",
   "metadata": {},
   "source": [
    "# Deutsch Josza \n",
    "\n",
    "> Link : https://github.com/XanaduAI/QHack/blob/master/Coding_Challenges/algorithms_500_DeutschJozsaStrikesAgain_template/problem.pdf"
   ]
  },
  {
   "cell_type": "markdown",
   "id": "86120169",
   "metadata": {},
   "source": [
    "## Task 1 \n",
    "- 2 qubit deutsch josza, with all possibilties as tests \n"
   ]
  },
  {
   "cell_type": "markdown",
   "id": "99f83927",
   "metadata": {},
   "source": [
    "### test case \n",
    "- **All possible cases** \n",
    "- For each case follow this structure, B is Balanced, C is Constant  \n",
    "```\n",
    "B\n",
    "00,0\n",
    "01,1\n",
    "10,1\n",
    "11,0\n",
    "```"
   ]
  },
  {
   "cell_type": "markdown",
   "id": "0e566bba",
   "metadata": {},
   "source": [
    "## Task 2 \n",
    "- 4 qubit with random functions, around 10 test cases "
   ]
  },
  {
   "cell_type": "markdown",
   "id": "7d664dc9",
   "metadata": {},
   "source": [
    "### test case - 10\n",
    "\n",
    "- For each case follow (B and C mean the same)- \n",
    "\n",
    "```\n",
    "C \n",
    "0000,1\n",
    "0001,1\n",
    "0010,1\n",
    "0011,1\n",
    "... so on\n",
    "```"
   ]
  },
  {
   "cell_type": "markdown",
   "id": "01f22a61",
   "metadata": {},
   "source": [
    "## Task 3 \n",
    "- n qubit deutsch josza and you determine the distribution of functions \n",
    "- finally they need to return the k bit binary string for the functions given "
   ]
  },
  {
   "cell_type": "markdown",
   "id": "d1971d74",
   "metadata": {},
   "source": [
    "### tests - 10\n",
    "\n",
    "- These will have N ranging from $2<=N<=12$ \n",
    "- For each of these do like \n",
    "```\n",
    "7,C \n",
    "0000000,0\n",
    "0000001,0 \n",
    "... \n",
    "```"
   ]
  },
  {
   "cell_type": "code",
   "execution_count": null,
   "id": "fa03ab6b",
   "metadata": {},
   "outputs": [],
   "source": []
  }
 ],
 "metadata": {
  "kernelspec": {
   "display_name": "Python 3",
   "language": "python",
   "name": "python3"
  },
  "language_info": {
   "codemirror_mode": {
    "name": "ipython",
    "version": 3
   },
   "file_extension": ".py",
   "mimetype": "text/x-python",
   "name": "python",
   "nbconvert_exporter": "python",
   "pygments_lexer": "ipython3",
   "version": "3.8.10"
  }
 },
 "nbformat": 4,
 "nbformat_minor": 5
}
