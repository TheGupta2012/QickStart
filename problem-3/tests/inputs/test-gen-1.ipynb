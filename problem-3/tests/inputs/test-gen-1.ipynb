{
 "cells": [
  {
   "cell_type": "code",
   "execution_count": 23,
   "id": "030b913c",
   "metadata": {},
   "outputs": [],
   "source": [
    "from networkx.generators.random_graphs import gnm_random_graph\n",
    "import numpy as np\n",
    "import random"
   ]
  },
  {
   "cell_type": "code",
   "execution_count": 31,
   "id": "ca28dc9a",
   "metadata": {},
   "outputs": [
    {
     "name": "stderr",
     "output_type": "stream",
     "text": [
      "C:\\Users\\AMOGH GARG\\AppData\\Local\\Temp/ipykernel_21992/188949628.py:15: DeprecationWarning: Sampling from a set deprecated\n",
      "since Python 3.9 and will be removed in a subsequent version.\n",
      "  l = random.sample(g.edges, q)\n"
     ]
    }
   ],
   "source": [
    "# Input format: First line contains two space separated integers N and M\n",
    "# Following M lines contains two space separated integers representing an edge\n",
    "# Integer Q\n",
    "# Following Q lines are queries\n",
    "path = \"task-1-\"\n",
    "\n",
    "for i in range(0, 10):\n",
    "    f_path = path + str(i) + \".txt\"\n",
    "    n = np.random.randint(1, 101)\n",
    "    x = n*(n-1)/2\n",
    "    m = np.random.randint(n-1, min(1001,x))\n",
    "    q = np.random.randint(1, m)\n",
    "    \n",
    "    g = gnm_random_graph(n, m, seed=None, directed=False)\n",
    "    l = random.sample(g.edges, q)\n",
    "    \n",
    "    file = open(f_path, mode=\"w\", newline=\"\\n\")\n",
    "\n",
    "    file.write(str(n) + \" \" + str(m) + \"\\n\")\n",
    "\n",
    "    for i in g.edges:\n",
    "        for j in i:\n",
    "            file.write(str(j+1) + \" \")\n",
    "        file.write(\"\\n\")\n",
    "    \n",
    "    file.write(str(q) + \"\\n\")\n",
    "    \n",
    "    for i in l:\n",
    "        for j in i:\n",
    "            file.write(str(j+1) + \" \")\n",
    "        file.write(\"\\n\")\n",
    "\n",
    "    file.close()"
   ]
  },
  {
   "cell_type": "code",
   "execution_count": null,
   "id": "1ce9d490",
   "metadata": {},
   "outputs": [],
   "source": []
  }
 ],
 "metadata": {
  "kernelspec": {
   "display_name": "Python 3 (ipykernel)",
   "language": "python",
   "name": "python3"
  },
  "language_info": {
   "codemirror_mode": {
    "name": "ipython",
    "version": 3
   },
   "file_extension": ".py",
   "mimetype": "text/x-python",
   "name": "python",
   "nbconvert_exporter": "python",
   "pygments_lexer": "ipython3",
   "version": "3.10.0"
  }
 },
 "nbformat": 4,
 "nbformat_minor": 5
}
