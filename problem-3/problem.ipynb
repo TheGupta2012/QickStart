{
 "cells": [
  {
   "cell_type": "markdown",
   "id": "0b958d81",
   "metadata": {},
   "source": [
    "# Swaps"
   ]
  },
  {
   "cell_type": "markdown",
   "id": "3acb4e61",
   "metadata": {},
   "source": [
    "### Test structure \n",
    "- N,M\n",
    "- M lines of u,v where u and v are in [1,N]"
   ]
  },
  {
   "cell_type": "markdown",
   "id": "f1dea110",
   "metadata": {},
   "source": [
    "## Task 1 - Line graph \n",
    "- 0 - 1 - 2 - 3 - 4 \n",
    "\n",
    "### Tests - 10 \n",
    "\n",
    "- N : number of nodes in graph \n",
    "- $1<=N<=100$\n",
    "- M : edges in graph \n",
    "- $1<=M<=1000$ \n",
    "\n",
    "\n"
   ]
  },
  {
   "cell_type": "markdown",
   "id": "338a5c12",
   "metadata": {},
   "source": [
    "## Task 2 - Connected Graph \n",
    "- Adjacency list \n",
    "- Find the minimum swaps between a source and a target given Q queries \n",
    "\n",
    "### Tests - 10 \n",
    "- $N <= 10^5$\n",
    "- $M <= 10^6$"
   ]
  },
  {
   "cell_type": "markdown",
   "id": "60e37fce",
   "metadata": {},
   "source": [
    "## Task 3 - Largest Fidelity (if time permits) \n",
    "- Given fidelities of swap gates, find the max fidelity path from source to the target node \n"
   ]
  },
  {
   "cell_type": "code",
   "execution_count": null,
   "id": "5e8f2a3a",
   "metadata": {},
   "outputs": [],
   "source": []
  },
  {
   "cell_type": "code",
   "execution_count": null,
   "id": "17247d49",
   "metadata": {},
   "outputs": [],
   "source": []
  }
 ],
 "metadata": {
  "kernelspec": {
   "display_name": "Python 3",
   "language": "python",
   "name": "python3"
  },
  "language_info": {
   "codemirror_mode": {
    "name": "ipython",
    "version": 3
   },
   "file_extension": ".py",
   "mimetype": "text/x-python",
   "name": "python",
   "nbconvert_exporter": "python",
   "pygments_lexer": "ipython3",
   "version": "3.8.10"
  }
 },
 "nbformat": 4,
 "nbformat_minor": 5
}
