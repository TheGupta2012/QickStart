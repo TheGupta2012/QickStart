{
 "cells": [
  {
   "cell_type": "markdown",
   "id": "4041cb3f",
   "metadata": {},
   "source": [
    "# Min Swaps\n",
    "Whenever we run a quantum algorithm or circuit, we do not think of the underlying hardware. We are able to do this thanks to a set of steps that take place between the submission of our code and what the computer finally receives. These steps allow our **logical quantum circuit** to be transformed into a **physical quantum circuit** executable on a quantum backend. \n",
    "\n",
    "What do we mean by this? Let's take an example\n"
   ]
  },
  {
   "attachments": {},
   "cell_type": "markdown",
   "id": "0b958d81",
   "metadata": {},
   "source": [
    "<img src=\"backend-img.png\">\n",
    "\n",
    "- This is the picture of an actual 7-qubit backend **ibm_perth**. Each of the numbers represent a *qubit* and the edges between these nodes represent *connectivity*\n",
    "\n",
    "- This is what is commonly represented as a **Graph**(https://en.wikipedia.org/wiki/Graph_theory) where the qubits are the vertices and edges are the connectivity between qubits.\n",
    "\n",
    "- If you see qubits **0 and 1**, they are *directly connected*, but *not* the qubits **0 and 3**. This would pose some problems to our quantum circuit model of computation. What exactly? (try to think) ! "
   ]
  },
  {
   "attachments": {},
   "cell_type": "markdown",
   "id": "598cb57e",
   "metadata": {},
   "source": [
    "If you are thinking of multi-qubit gates, you're right! \n",
    "\n",
    "- We learnt about the $CX$ gate and other 2 qubit gates during our lectures. While trying to implement these 2 qubit gates, it is often the case that the qubits **do not have a direct connectivity**\n",
    "\n",
    "- Let us constrain ourselves for now and look at implementing the $CX$ gates. Let $CX(i,j)$ represent a $CX$ gate applied between qubits $i$ and $j$ with $i$ as the *control* qubit and $j$ as the *target* qubit \n",
    "\n",
    "- Continuing with our example above : \n",
    "    - $CX(1,3)$ is a directly possible operation\n",
    "    - $CX(1,5)$ is not a directly possible operation \n",
    "    \n",
    "- How do you connect two qubits which aren't directly connected? \n",
    "\n",
    "#### USE SWAP GATES!\n",
    "\n",
    "- These figures below show a $CX(1,5)$ could be executed for the given graph above - \n",
    "\n",
    "<table><tr>\n",
    "<td> <img src=\"no-swap-cx.png\" /> </td>\n",
    "<td> <img src=\"right-arrow.png\" width = 100px height = 50px/></td>\n",
    "<td> <img src=\"swap-cx.png\"/> </td>\n",
    "</tr></table>\n",
    "    \n",
    "- Since there is no direct connection between qubits 1 and 5, we can try to make a *bridge* through qubit 3. Similary if we wanted to make a connection between say qubits 0 and 6 we would need to make 3 such swap operations "
   ]
  },
  {
   "cell_type": "markdown",
   "id": "3acb4e61",
   "metadata": {},
   "source": [
    "### Test structure \n",
    "- N,M\n",
    "- M lines of u,v where u and v are in [1,N]"
   ]
  },
  {
   "cell_type": "markdown",
   "id": "69c34ee1",
   "metadata": {},
   "source": [
    "## Task \n",
    "- Your task is to determine the minimum number of $SWAP$ gates needed to connect the qubits $i$ and $j$ in a given quantum backend. \n",
    "- You will be provided with the connectivity map of the device which is represented as a graph.\n",
    "- This connectivity of the backend is provided in the form of a dictionary where each key represents a qubit  and their associated values are lists which contain nodes they are directly connected with. For example - \n",
    "```python \n",
    "#connectivity for above graph is like \n",
    "connectivity_map = {\n",
    "    0 : [1], \n",
    "    1 : [0, 2, 3],\n",
    "    2 : [1],\n",
    "    3 : [1, 5],\n",
    "    4 : [5],\n",
    "    5 : [3, 4, 6],\n",
    "    6 : [5]\n",
    "}\n",
    "```"
   ]
  },
  {
   "cell_type": "markdown",
   "id": "5a472b25",
   "metadata": {},
   "source": [
    "### Level 1 - 50 points \n",
    "\n",
    "- You are given a connectivity map of a **line graph**. What this means is that you only have at most 2 neighbours for a particular vertex. For example - \n",
    "\n",
    "<img src = 'bogota.png'>\n",
    "\n",
    "- You are also given lists of control and target qubits with lengths $Q$\n",
    "\n",
    "- You need to find the minimum number of swaps required to directly connect the control with its corresponding target qubit. For example - \n",
    "\n",
    "\n",
    "    \n",
    "- **Constraints**\n",
    "    - $1<=N<=100$\n",
    "    - $1<=Q<=1000$\n",
    "    - Time limit for execution : 10 seconds\n"
   ]
  },
  {
   "cell_type": "markdown",
   "id": "ef77aa8e",
   "metadata": {},
   "source": [
    "#### To submit \n",
    "- Create a function which should accept parameters `N`, `controls`, `targets` and `connectivity` \n",
    "- `N` is the total number of nodes in the graph\n",
    "- `connectivity` represents the connectivity map of the given line graph\n",
    "- `controls` and `targets` are going to be integer lists representing a list of controls and targets between which $CX$ gates are applied. \n",
    "\n",
    "- It should return an integer list `min_swaps` which represents the minimum number of swap operations required to connect the qubits `controls[i]` and `targets[i]` \n",
    "\n",
    "\n",
    "\n",
    "\n",
    "**NOTE** \n",
    "1. Please refrain from adding any kinds of statements other than comments in the designated code block, this may result in wrong output \n",
    "2. You can assume that the input connectivity map and the control and target qubits are all valid inputs"
   ]
  },
  {
   "cell_type": "markdown",
   "id": "7bbbe9e7",
   "metadata": {},
   "source": [
    "#### Example Test Case\n",
    "\n",
    "```python\n",
    "controls = [0, 1]\n",
    "targets = [1, 4]\n",
    "connectivity_map = {\n",
    "    0 : [1],\n",
    "    1 : [0,2],\n",
    "    2 : [1,3],\n",
    "    3 : [2,4],\n",
    "    4 : [3]\n",
    "}   \n",
    "N = 5 \n",
    "\n",
    "min_swaps = get_min_swaps(N, controls, targets, connectivity_map)\n",
    "\n",
    "```\n",
    "- `min_swaps = [0, 2]` as - \n",
    "    - $CX(0,1)$ requires 0 $SWAP$ gates\n",
    "    - $CX(1,4)$ requires 2 $SWAP$ gates\n",
    "    \n"
   ]
  },
  {
   "cell_type": "code",
   "execution_count": 28,
   "id": "e0ba3550",
   "metadata": {
    "ExecuteTime": {
     "end_time": "2022-09-29T17:51:06.848356Z",
     "start_time": "2022-09-29T17:51:06.839446Z"
    }
   },
   "outputs": [],
   "source": [
    "def get_min_swaps(N, controls, targets, connectivity_map):\n",
    "    min_swaps = []\n",
    "    ### You code goes here \n",
    "    \n",
    "    ### your code goes here \n",
    "    \n",
    "    return min_swaps"
   ]
  },
  {
   "cell_type": "code",
   "execution_count": null,
   "id": "d38f2e5a",
   "metadata": {},
   "outputs": [],
   "source": [
    "from grader import grader1\n",
    "grader1.evaluate(get_total_bloch_ops)"
   ]
  },
  {
   "cell_type": "markdown",
   "id": "f1dea110",
   "metadata": {},
   "source": [
    "### Tests - 10 \n",
    "\n",
    "- N : number of nodes in graph \n",
    "- $1<=N<=100$\n",
    "- M : edges in graph \n",
    "- $1<=M<=1000$ "
   ]
  },
  {
   "attachments": {},
   "cell_type": "markdown",
   "id": "d66e38c3",
   "metadata": {},
   "source": [
    "## Task 2 - Connected Graph \n",
    "\n",
    "- You can see that the above connection is not very efficient. - - Many qubits which are at the end points have to use swaps proportional to the size of the graph to connect with each other.\n",
    "\n",
    "- We present graphs in a different connectivity now - \n",
    "\n",
    "<img src='big-graph.png'>\n",
    "\n",
    "- to do...."
   ]
  },
  {
   "cell_type": "markdown",
   "id": "338a5c12",
   "metadata": {
    "heading_collapsed": true
   },
   "source": [
    "### Tests - 10 \n",
    "- $N <= 10^5$\n",
    "- $M <= 10^6$"
   ]
  },
  {
   "cell_type": "markdown",
   "id": "60e37fce",
   "metadata": {},
   "source": [
    "## Task 3 - Largest Fidelity (if time permits) \n",
    "- Given fidelities of swap gates, find the max fidelity path from source to the target node \n"
   ]
  },
  {
   "cell_type": "code",
   "execution_count": null,
   "id": "5e8f2a3a",
   "metadata": {},
   "outputs": [],
   "source": []
  },
  {
   "cell_type": "code",
   "execution_count": null,
   "id": "17247d49",
   "metadata": {},
   "outputs": [],
   "source": []
  }
 ],
 "metadata": {
  "kernelspec": {
   "display_name": "Python 3",
   "language": "python",
   "name": "python3"
  },
  "language_info": {
   "codemirror_mode": {
    "name": "ipython",
    "version": 3
   },
   "file_extension": ".py",
   "mimetype": "text/x-python",
   "name": "python",
   "nbconvert_exporter": "python",
   "pygments_lexer": "ipython3",
   "version": "3.8.10"
  }
 },
 "nbformat": 4,
 "nbformat_minor": 5
}
