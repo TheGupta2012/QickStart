{
 "cells": [
  {
   "cell_type": "markdown",
   "id": "779b68c4",
   "metadata": {},
   "source": [
    "# Basics \n",
    "\n",
    "3 sub tasks - Quantum Katas "
   ]
  },
  {
   "cell_type": "markdown",
   "id": "951b2cc0",
   "metadata": {},
   "source": [
    "### Level 1 - 10 points"
   ]
  },
  {
   "cell_type": "code",
   "execution_count": null,
   "id": "a949b3cb",
   "metadata": {},
   "outputs": [],
   "source": []
  },
  {
   "cell_type": "markdown",
   "id": "58120863",
   "metadata": {},
   "source": [
    "### Level 2 - 20 points"
   ]
  },
  {
   "cell_type": "code",
   "execution_count": null,
   "id": "5c9ef451",
   "metadata": {},
   "outputs": [],
   "source": []
  },
  {
   "cell_type": "markdown",
   "id": "a9e5b595",
   "metadata": {},
   "source": [
    "### Level 3 - 20 points"
   ]
  },
  {
   "cell_type": "code",
   "execution_count": null,
   "id": "03efa91a",
   "metadata": {},
   "outputs": [],
   "source": []
  }
 ],
 "metadata": {
  "kernelspec": {
   "display_name": "Python 3",
   "language": "python",
   "name": "python3"
  },
  "language_info": {
   "codemirror_mode": {
    "name": "ipython",
    "version": 3
   },
   "file_extension": ".py",
   "mimetype": "text/x-python",
   "name": "python",
   "nbconvert_exporter": "python",
   "pygments_lexer": "ipython3",
   "version": "3.8.10"
  }
 },
 "nbformat": 4,
 "nbformat_minor": 5
}
