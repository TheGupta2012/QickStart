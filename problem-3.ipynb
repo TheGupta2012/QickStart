{
 "cells": [
  {
   "cell_type": "markdown",
   "id": "70ae4455",
   "metadata": {},
   "source": [
    "# Problem 3 - Bloch It! \n",
    "\n",
    "Bob has recently read about the Bloch Sphere representation of a quantum state and is feeling confident. After getting bored from all he could read about it, he asks his teacher Hilbert to give him a problem to brush up his skills. Hilbert gladly agrees and proposes a setting for Bob - \n",
    "\n",
    "- You are given an initial state of $|\\Psi\\rangle$. \n",
    "- This state can be chosen from the eigenstates of the Pauli Gates $X,\\ Y\\ and\\ Z$ i.e. from the set $|0\\rangle, |1\\rangle, |+\\rangle, |-\\rangle, |r\\rangle\\ and\\ |l\\rangle$ where all these states can be represented on the Bloch Sphere as (in order of naming)- \n",
    "<hr>\n",
    "<img src='resources/problem-3/eigen-states.png'>\n",
    "<hr>\n",
    "\n",
    "- You are also given 3 arrays, $AR_z,\\ AR_x,\\ AR_y$ which have sizes $n,\\ m,\\ k$ respectively. \n",
    "- Each of the elements of the array mean the following - \n",
    "    - If $AR_z[i]\\ =\\ r_1$, means current state vector is rotated counter-clockwise by an amount $\\frac{r_1\\pi}{2}$ about the $Z$ axis \n",
    "    - If $AR_x[j]\\ =\\ r_2$, means current state vector is rotated counter-clockwise by an amount $\\frac{r_2\\pi}{2}$ about the $X$ axis \n",
    "    - If $AR_y[k]\\ =\\ r_3$, means current state vector is rotated counter-clockwise by an amount $\\frac{r_3\\pi}{2}$ about the $Y$ axis \n",
    " \n",
    "#### Bloch Operation\n",
    "- It is defined as a list of 3 indices $[i,j,k]$ such that applying the rotations $[AR_z[i], AR_x[j], AR_y[k]]$ (in the same order) will take the initial state of this operation say $|\\Phi\\rangle$ to the $|0\\rangle$ state.\n",
    "- More formally if $AR_z[i]\\ =\\ r_1$, $AR_x[j]\\ =\\ r_2$ and $AR_y[k]\\ =\\ r_3$, - \n",
    "\n",
    "    $$R_y(\\frac{r_3\\pi}{2})R_x(\\frac{r_2\\pi}{2})R_z(\\frac{r_1\\pi}{2})|\\Phi\\rangle = |0\\rangle$$"
   ]
  },
  {
   "cell_type": "markdown",
   "id": "733fdbd1",
   "metadata": {},
   "source": [
    "## Task\n",
    "- Your task is to bring this initial state $|\\Psi\\rangle$ to the $|0\\rangle$ state by doing a **bloch operation** and count the total number of **bloch operations** which are possible\n",
    "- The problems contain different versions of this task, each with different levels of difficulty\n",
    "- For all levels, intial state $|\\Psi\\rangle$ is selected from the set $|0\\rangle, |1\\rangle, |+\\rangle, |-\\rangle, |r\\rangle\\ and\\ |l\\rangle$"
   ]
  },
  {
   "cell_type": "markdown",
   "id": "ad0decdb",
   "metadata": {},
   "source": [
    "### Level 1 - 40 points \n",
    "- Given the initial state $|\\Psi\\rangle$, your task is to build one-element lists for a valid **bloch operation**.\n",
    "- Eg. \n",
    "    - If you are given a state $|0\\rangle$, a valid bloch operation is going to be [0,0,0] with the lists as $AR_z\\ =\\ [0],\\ AR_x\\ =\\ [2]\\ and\\ AR_y\\ =\\ [-2]$\n",
    "    - The following code block highlights how the $|0\\rangle$ state is converted to the $|0\\rangle$ yet again after this series of operations.\n",
    "    \n",
    "- You can play around with the widget generated from the `visualize_transition` function to understand the problem better"
   ]
  },
  {
   "cell_type": "code",
   "execution_count": 1,
   "id": "5509f54d",
   "metadata": {
    "ExecuteTime": {
     "end_time": "2022-10-03T07:58:27.872807Z",
     "start_time": "2022-10-03T07:58:21.462830Z"
    }
   },
   "outputs": [
    {
     "data": {
      "text/plain": [
       "<qiskit.circuit.instructionset.InstructionSet at 0x7f3371903a90>"
      ]
     },
     "execution_count": 1,
     "metadata": {},
     "output_type": "execute_result"
    }
   ],
   "source": [
    "from qiskit import QuantumCircuit\n",
    "from qiskit.visualization import visualize_transition\n",
    "import numpy as np\n",
    "\n",
    "# build the quantum circuit\n",
    "q = QuantumCircuit(1)\n",
    "\n",
    "# init the state\n",
    "# already |0>\n",
    "\n",
    "# apply transformation\n",
    "q.rz(0, 0)\n",
    "q.rx(2*np.pi/2, 0)\n",
    "q.ry(-2*np.pi/2, 0)"
   ]
  },
  {
   "cell_type": "code",
   "execution_count": null,
   "id": "ce2eb3e3",
   "metadata": {
    "ExecuteTime": {
     "end_time": "2022-10-03T07:59:08.982616Z",
     "start_time": "2022-10-03T07:58:27.877896Z"
    }
   },
   "outputs": [],
   "source": [
    "visualize_transition(q)"
   ]
  },
  {
   "cell_type": "markdown",
   "id": "be4392ce",
   "metadata": {},
   "source": [
    "#### To submit \n",
    "- Create a function which should accept a parameter `state` from one of the characters '0', '1', '+', '-', 'r', 'l' \n",
    "- It should return a list `rotations` containing 3 integers where `rotations[0], rotations[1], rotations[2]` are the counter-clockwise rotations about the Z axis, X axis and Y axis respectively \n",
    "- These rotations, when applied in order, should transform the given state to the $|0\\rangle$ state\n",
    "\n",
    "\n",
    "**NOTE** \n",
    "1. Please refrain from adding any kinds of statements other than comments in the designated code block, this may result in wrong output \n",
    "2. You can assume that the input state is always going to be a valid character"
   ]
  },
  {
   "cell_type": "markdown",
   "id": "7a1f58cb",
   "metadata": {},
   "source": [
    "#### Function"
   ]
  },
  {
   "cell_type": "code",
   "execution_count": 1,
   "id": "e322ef1e",
   "metadata": {
    "ExecuteTime": {
     "end_time": "2022-10-03T12:45:22.177340Z",
     "start_time": "2022-10-03T12:45:22.171319Z"
    }
   },
   "outputs": [],
   "source": [
    "def generate_bloch_operation(state):\n",
    "    rotation = [0,0,0]\n",
    "    ### Your code goes here \n",
    "    \n",
    "    \n",
    "    ### Your code goes here \n",
    "    \n",
    "    return rotation "
   ]
  },
  {
   "cell_type": "code",
   "execution_count": 2,
   "id": "3a016297",
   "metadata": {
    "ExecuteTime": {
     "end_time": "2022-10-03T12:45:23.904339Z",
     "start_time": "2022-10-03T12:45:23.173528Z"
    }
   },
   "outputs": [
    {
     "name": "stdout",
     "output_type": "stream",
     "text": [
      "Uh-oh, that's not quite correct\n"
     ]
    }
   ],
   "source": [
    "from graders.problem_3.grader import grader1 \n",
    "grader1.evaluate(generate_bloch_operation)"
   ]
  },
  {
   "cell_type": "markdown",
   "id": "133207f0",
   "metadata": {},
   "source": [
    "### Level 2 - 60 points\n",
    "- Here we start to get interesting! \n",
    "- You are still given an initial state $|\\Psi\\rangle$ but the arrays $AR_z,\\ AR_x,\\ AR_y$ which have sizes $n,\\ m,\\ k$ respectively, are now provided in the function. \n",
    "- Your task is two fold - \n",
    "    1. Return the total number of **bloch operations** possible from these arrays\n",
    "    2. Return the list of these **bloch operations** as `QuantumCircuits`\n",
    "    \n",
    "- **Constraints** \n",
    "    - $1 < n <= 100$, $1 < m <= 100$ and $1 < k <= 100$\n",
    "    - Time limit for execution : 10 seconds"
   ]
  },
  {
   "cell_type": "markdown",
   "id": "c198a25f",
   "metadata": {},
   "source": [
    "#### To submit "
   ]
  },
  {
   "cell_type": "markdown",
   "id": "901b4d33",
   "metadata": {},
   "source": [
    "- Create a function which should accept a parameter `state` from one of the characters '0', '1', '+', '-', 'r', 'l' \n",
    "- It should also accept three parameters `arz`, `arx`, `ary` which have the meanings as defined above\n",
    "- The function should return a 2-tuple (`total`,`operations`) with - \n",
    "    - `total` representing the total number of **bloch operations**\n",
    "    - `operations` representing a list of 2-tuples such that- \n",
    "        - `operations[i][0]` represents the index triple for the arrays (in order of **z**, then **x**, then **y**) \n",
    "        - `operations[i][1]` represents the `QuantumCircuit` object representing the rotation\n",
    "\n",
    "\n",
    "**NOTE** \n",
    "1. Please refrain from adding any kinds of statements other than comments in the designated code block, this may result in wrong output \n",
    "2. You can assume that the input state is always going to be a valid character and that `arx`, `ary`, `arz` all contain valid integer elements"
   ]
  },
  {
   "cell_type": "markdown",
   "id": "4a9ccac3",
   "metadata": {},
   "source": [
    "#### Example Testcase "
   ]
  },
  {
   "cell_type": "markdown",
   "id": "f2e0339b",
   "metadata": {},
   "source": [
    "```python\n",
    "# say we have these arrays\n",
    "arz = [2]\n",
    "arx = [-2]\n",
    "ary = [0, 2]\n",
    "\n",
    "# initial state is |0>\n",
    "state = '0'\n",
    "\n",
    "# your function would return these two things\n",
    "total, operations = get_total_bloch_ops(state, arz, arx, ary)\n",
    "```"
   ]
  },
  {
   "cell_type": "markdown",
   "id": "f0ced706",
   "metadata": {},
   "source": [
    "#### Explanation"
   ]
  },
  {
   "cell_type": "markdown",
   "id": "8bbef20b",
   "metadata": {},
   "source": [
    "- Let us see the rotations for each possible triplet first - \n",
    "    - **[0,0,0]**\n",
    "        - Rotation Z = $2*\\frac{\\pi}{2}$, state remains $|0\\rangle$\n",
    "        - Rotation X = $-2*\\frac{\\pi}{2}$, state changes to $|1\\rangle$ \n",
    "        - Rotation Y = $0*\\frac{\\pi}{2}$, state remains same. \n",
    "        - Final state is $|1\\rangle$ -> **Incorrect** series of rotations\n",
    "        \n",
    "    - **[0,0,1]**\n",
    "        - Rotation Z = $2*\\frac{\\pi}{2}$, state remains $|0\\rangle$\n",
    "        - Rotation X = $-2*\\frac{\\pi}{2}$, state changes to $|1\\rangle$ \n",
    "        - Rotation Y = $2*\\frac{\\pi}{2}$, state changes back to $|0\\rangle$ \n",
    "        - Final state is $|0\\rangle$ -> **Correct** series of rotations\n",
    "\n",
    "\n",
    "- Thus, in the above example, `total=1` and the `operations` list would be something like this - \n",
    "    - `operations = [([0,0,1], qc)]` where `qc` will be the `QuantumCircuit` implementing the series of operations on a single qubit circuit -\n",
    "```python\n",
    "# for reference \n",
    "qc = QuantumCircuit(1)\n",
    "qc.rz(2*pi/2, 0)\n",
    "qc.rx(-2*pi/2, 0)\n",
    "qc.ry(2*pi/2, 0)\n",
    "# no measurements should be present at end\n",
    "```"
   ]
  },
  {
   "cell_type": "markdown",
   "id": "99cb4af4",
   "metadata": {},
   "source": [
    "#### Function"
   ]
  },
  {
   "cell_type": "code",
   "execution_count": 1,
   "id": "e1059a42",
   "metadata": {
    "ExecuteTime": {
     "end_time": "2022-09-28T08:23:02.308001Z",
     "start_time": "2022-09-28T08:23:01.648314Z"
    }
   },
   "outputs": [],
   "source": [
    "def get_total_bloch_ops(state, arz, arx, ary):\n",
    "    total = 0\n",
    "    operations = []\n",
    "    ### Your code goes here \n",
    "    \n",
    "    \n",
    "    ### Your code goes here \n",
    "    \n",
    "    return (total, operations)"
   ]
  },
  {
   "cell_type": "code",
   "execution_count": null,
   "id": "c80e680e",
   "metadata": {
    "ExecuteTime": {
     "end_time": "2022-09-28T08:24:47.357040Z",
     "start_time": "2022-09-28T08:23:06.052397Z"
    }
   },
   "outputs": [],
   "source": [
    "from graders.problem_3.grader import grader2\n",
    "grader2.evaluate(get_total_bloch_ops)"
   ]
  },
  {
   "cell_type": "markdown",
   "id": "4ede5c5e",
   "metadata": {},
   "source": [
    "### Level 3 - 100 points\n",
    "- This problem is an extension of the level 2. Can you optimize your solution to solve this task?\n",
    "- You are still given an initial state $|\\Psi\\rangle$ and the arrays $AR_z,\\ AR_x,\\ AR_y$ have sizes $n,\\ m,\\ k$ respectively. \n",
    "- You only need to provide the total count of **bloch operations** in this case.\n",
    "\n",
    "\n",
    "\n",
    "\n",
    "\n",
    "\n",
    "\n",
    "\n",
    "\n",
    "\n",
    "\n",
    "\n",
    "\n",
    "\n",
    "\n",
    "\n",
    "\n",
    "\n",
    "\n",
    "\n",
    "\n",
    "\n",
    "\n",
    "\n",
    "\n",
    "\n",
    "\n",
    "\n",
    "\n",
    "\n",
    "\n",
    "\n",
    "\n",
    "\n",
    "\n",
    "\n",
    "\n",
    "\n",
    "\n",
    "\n",
    "\n",
    "\n",
    "\n",
    "\n",
    "\n",
    "\n",
    "\n",
    "\n",
    "\n",
    "\n",
    "\n",
    "\n",
    "\n",
    "\n",
    "\n",
    "\n",
    "\n",
    "\n",
    "\n",
    "\n",
    "\n",
    "\n",
    "\n",
    "\n",
    "\n",
    "\n",
    "\n",
    "\n",
    "\n",
    "\n",
    "\n",
    "\n",
    "\n",
    "\n",
    "\n",
    "\n",
    "\n",
    "\n",
    "\n",
    "\n",
    "\n",
    "\n",
    "\n",
    "\n",
    "\n",
    "\n",
    "\n",
    "\n",
    "\n",
    "\n",
    "\n",
    "\n",
    "\n",
    "\n",
    "\n",
    "\n",
    "\n",
    "\n",
    "\n",
    "\n",
    "\n",
    "\n",
    "\n",
    "\n",
    "\n",
    "\n",
    "\n",
    "\n",
    "\n",
    "\n",
    "\n",
    "\n",
    "\n",
    "\n",
    "\n",
    "\n",
    "\n",
    "\n",
    "\n",
    "\n",
    "\n",
    "\n",
    "\n",
    "\n",
    "\n",
    "\n",
    "\n",
    "\n",
    "\n",
    "\n",
    "\n",
    "\n",
    "\n",
    "\n",
    "\n",
    "\n",
    "\n",
    "\n",
    "\n",
    "\n",
    "\n",
    "\n",
    "\n",
    "\n",
    "\n",
    "\n",
    "\n",
    "\n",
    "\n",
    "\n",
    "\n",
    "\n",
    "\n",
    "\n",
    "\n",
    "\n",
    "\n",
    "\n",
    "\n",
    "\n",
    "\n",
    "\n",
    "\n",
    "\n",
    "\n",
    "\n",
    "\n",
    "\n",
    "- **Constraints** \n",
    "    - $1 < n <= 10^6$, $1 < m <= 10^6$ and $1 < k <= 10^6$\n",
    "    - Time limit for execution : 10 seconds"
   ]
  },
  {
   "cell_type": "markdown",
   "id": "688a5b77",
   "metadata": {},
   "source": [
    "#### To submit \n",
    "- Create a function which should accept a parameter `state` from one of the characters '0', '1', '+', '-', 'r', 'l' \n",
    "- It should also accept three parameters `arz`, `arx`, `ary` which have the meanings as defined above\n",
    "- The function should return a variable `total` which represents the total number of **bloch operations**\n",
    "   \n",
    "\n",
    "**NOTE** \n",
    "1. Please refrain from adding any kinds of statements other than comments in the designated code block, this may result in wrong output \n",
    "2. You can assume that the input state is always going to be a valid character and that `arx`, `ary`, `arz` all contain valid integer elements"
   ]
  },
  {
   "cell_type": "code",
   "execution_count": 8,
   "id": "0b6e0922",
   "metadata": {
    "ExecuteTime": {
     "end_time": "2022-09-28T07:57:15.453783Z",
     "start_time": "2022-09-28T07:57:15.451547Z"
    }
   },
   "outputs": [],
   "source": [
    "def get_larger_total_bloch_ops(state, arz, arx, ary):\n",
    "    \n",
    "    ### Your code goes here \n",
    "    \n",
    "    \n",
    "    ### Your code goes here \n",
    "    \n",
    "    return total"
   ]
  },
  {
   "cell_type": "code",
   "execution_count": null,
   "id": "2d927204",
   "metadata": {},
   "outputs": [],
   "source": [
    "from graders.problem_3.grader import grader3\n",
    "grader3.evaluate(get_larger_total_bloch_ops)"
   ]
  }
 ],
 "metadata": {
  "kernelspec": {
   "display_name": "Python 3",
   "language": "python",
   "name": "python3"
  },
  "language_info": {
   "codemirror_mode": {
    "name": "ipython",
    "version": 3
   },
   "file_extension": ".py",
   "mimetype": "text/x-python",
   "name": "python",
   "nbconvert_exporter": "python",
   "pygments_lexer": "ipython3",
   "version": "3.8.10"
  },
  "vscode": {
   "interpreter": {
    "hash": "916dbcbb3f70747c44a77c7bcd40155683ae19c65e1c03b4aa3499c5328201f1"
   }
  }
 },
 "nbformat": 4,
 "nbformat_minor": 5
}
