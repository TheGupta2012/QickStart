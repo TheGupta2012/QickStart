{
 "cells": [
  {
   "cell_type": "markdown",
   "id": "27716ce5",
   "metadata": {},
   "source": [
    "# Problem 5 - QRAM \n",
    "\n",
    "Almost all of us have heard about Random Access Memory (RAM). It is one of the most important components of a computer system which allows *stored information processing*. A computer's CPU directly interacts with RAM to access and process information. \n",
    "\n",
    "A property for data which is present in RAM is that it will have an **address** and a **value**. These properties are essential for the common operations which are required for data storage and processing.\n",
    "\n",
    "<img src = 'resources/problem-5/ram-vector.jpg' width = 50%>\n",
    "\n",
    "That's all fine but how do we define the concept of **memory** in quantum computing? How do you represent data in quantum bits? Let's constrain ourselves to the simple concept of arrays and see how we may store an array into qubits.\n",
    "\n",
    "#### Example \n",
    "\n",
    "```python\n",
    "arr = [3, 4, 5, 6]\n",
    "``` \n",
    "\n",
    "Each element **value** needs to be encoded into some qubits and there needs to be some notion of **indexing** present with our encoding. \n",
    "\n",
    "While a classical RAM would encode the data into bits, a **qRAM** would encode the data into a quantum state like the following - \n",
    "\n",
    "$$ |\\Psi \\rangle = \\frac{|0\\rangle V_0|0\\rangle^{\\otimes n} + |1\\rangle V_1|0\\rangle^{\\otimes n} + |2\\rangle V_2|0\\rangle^{\\otimes n} + |3\\rangle V_3|0\\rangle^{\\otimes n}}{\\sqrt{4}}$$\n",
    "\n",
    "Here we can have two registers - one for the **indexing** and one for the **storage**. \n",
    "\n",
    "The first *ket* represents the **index qubits**. The numbers $0,1,2,3$ are indices and written in shorthand decimal format. Actually, the quantum state in the binary format they would be something like - \n",
    "    $$ |2\\rangle \\equiv |10\\rangle $$\n",
    "    \n",
    "The operator $V_i$ represents the operator which would encode the $i^{th}$ value of the array into the **value qubits**\n",
    "\n",
    "The second *ket* represents the **value qubits**. These qubits would store the values of the array elements. Note that the number of qubits, $n$ would be - \n",
    "    $$ n = \\lceil log_2(m) \\rceil$$\n",
    "    \n",
    "where $m$ is the maximum value available in the array. In the above example, $m$ would be just $6$ and we could use $3$ qubits for the value qubits"
   ]
  },
  {
   "cell_type": "markdown",
   "id": "41019e91",
   "metadata": {},
   "source": [
    "## Task\n",
    "- Given different types of arrays and even quantum states, implement a **qRAM** which encodes the data into qubits\n",
    "- Each level of this problem contains a different version of this task, with varying difficulty levels"
   ]
  },
  {
   "cell_type": "markdown",
   "id": "c1315c5a",
   "metadata": {},
   "source": [
    "### Level 1 - 75 points \n",
    "- You are given a $4$ element array with `1<=array[i]<m`\n",
    "- You need to create a `QuantumCircuit` which encodes this array into qubits\n",
    "\n",
    "#### Constraints\n",
    "- The `QuantumCircuit` size should not exceed $\\lceil log(m)\\rceil + 2$ qubits \n"
   ]
  },
  {
   "cell_type": "markdown",
   "id": "14fe62a9",
   "metadata": {},
   "source": [
    "#### To submit \n",
    "- Create a function which would accept parameters `m` and `array`\n",
    "\n",
    "- Array will contain only $4$ elements where each element `1<=arr[i]<m` \n",
    "\n",
    "- You need to return a `QuantumCircuit` object which would contain the encoded array as a *quantum state*\n",
    "\n",
    "\n",
    "**NOTE** \n",
    "1. Please refrain from adding any kinds of statements other than comments in the designated code block, this may result in wrong output \n",
    "2. You can assume that the input params m and the array consist only of positive integers \n",
    "3. Note that the circuit should not contain any measurement operations as the full statevector of your quantum state would be compared "
   ]
  },
  {
   "cell_type": "code",
   "execution_count": 1,
   "id": "3b72ca34",
   "metadata": {
    "ExecuteTime": {
     "end_time": "2022-10-04T09:36:27.922328Z",
     "start_time": "2022-10-04T09:36:27.917736Z"
    }
   },
   "outputs": [],
   "source": [
    "def qram_4q(m, array):\n",
    "    \n",
    "    ### your code here \n",
    "    \n",
    "    ### your code here \n",
    "    \n",
    "    return qram "
   ]
  },
  {
   "cell_type": "code",
   "execution_count": null,
   "id": "83a6dda3",
   "metadata": {},
   "outputs": [],
   "source": [
    "from graders.problem_5.grader import grader1 \n",
    "grader1.evaluate(qram_4q)"
   ]
  },
  {
   "cell_type": "markdown",
   "id": "18f53617",
   "metadata": {},
   "source": [
    "### Level 2 - 125 points \n",
    "- You are given an `n` element array with `1<=array[i]<m`\n",
    "- `n` is selected from one of ${2, 4, 8, 16}$\n",
    "- You need to create a `QuantumCircuit` which encodes this array into qubits\n",
    "\n",
    "#### Constraints\n",
    "- The `QuantumCircuit` size should not exceed ($\\lceil log(n)\\rceil + \\lceil log(m)\\rceil$) qubits \n"
   ]
  },
  {
   "cell_type": "markdown",
   "id": "6a45e1fa",
   "metadata": {},
   "source": [
    "#### To submit \n",
    "- Create a function which would accept parameters `n`, `m` and `array`\n",
    "\n",
    "- Array will contain `n` elements where each element `1<=arr[i]<m` \n",
    "\n",
    "- You need to return a `QuantumCircuit` object which would contain the encoded array as a *quantum state*\n",
    "\n",
    "\n",
    "**NOTE** \n",
    "1. Please refrain from adding any kinds of statements other than comments in the designated code block, this may result in wrong output \n",
    "2. You can assume that the input params m and array consist only of positive integers \n",
    "3. Note that the circuit should not contain any measurement operations as the full statevector of your quantum state would be compared "
   ]
  },
  {
   "cell_type": "code",
   "execution_count": 2,
   "id": "eb3636df",
   "metadata": {
    "ExecuteTime": {
     "end_time": "2022-10-04T09:40:22.075918Z",
     "start_time": "2022-10-04T09:40:22.073193Z"
    }
   },
   "outputs": [],
   "source": [
    "def qram_general(n, m, array):\n",
    "    \n",
    "    ### your code here \n",
    "    \n",
    "    ### your code here \n",
    "    \n",
    "    return qram "
   ]
  },
  {
   "cell_type": "code",
   "execution_count": null,
   "id": "7514be2e",
   "metadata": {},
   "outputs": [],
   "source": [
    "from graders.problem_5.grader import grader2 \n",
    "grader2.evaluate(qram_general)"
   ]
  },
  {
   "cell_type": "markdown",
   "id": "cbf6852c",
   "metadata": {},
   "source": [
    "### Level 3 - 200 points\n",
    "- Here we transform the problem a little!\n",
    "- You are again given an array with sizes from one of $\\{2, 4, 8, 16, 32\\}$\n",
    "- But now, you need to encode **quantum states** instead of integer values \n",
    "- Each of the given array element would be something like the following - \n",
    "```python \n",
    "array = [('x', 0.123), ('x', 0.912), ('z', -0.12), ('y', -0.36)]\n",
    "```\n",
    "- **Explanation** \n",
    "    - `('x', num_1)` means : \n",
    "        - State : $R_x(\\theta_1)|0\\rangle$ and $\\theta_1 = 2\\pi*num\\_1$\n",
    "    - `('y', num_2)` means : \n",
    "        - State : $R_y(\\theta_2)|0\\rangle$ and $\\theta_2 = 2\\pi*num\\_2$\n",
    "    - `('z', num_3)` means :\n",
    "        - State : $R_z(\\theta_3)|0\\rangle$ and $\\theta_3 = 2\\pi*num\\_3$\n",
    "    \n",
    "    \n",
    "- The final qubits' state for the above example would be something like - \n",
    "\n",
    "$$ |qRAM\\rangle = \\frac{|0\\rangle R_x(0.123*2\\pi)|0\\rangle + |1\\rangle R_x(0.912*2\\pi)|0\\rangle + |2\\rangle R_z(-0.12*2\\pi)|0\\rangle + |3\\rangle R_y(-0.36*2\\pi)|0\\rangle}{\\sqrt{4}}$$\n",
    "\n",
    "#### Constraints \n",
    "- The size of the `QuantumCircuit` should not exceed $6$ qubits"
   ]
  },
  {
   "cell_type": "markdown",
   "id": "d92386b4",
   "metadata": {},
   "source": [
    "#### To submit \n",
    "- Create a function which should accept the parameters `n` and `rotations`\n",
    "- `n` would represent the number of elements present in the array \n",
    "- `rotations` array would be a list of 2-tuples as explained in the above cell\n",
    "- Your function should return a `QuantumCircuit` which will encode the given `rotations` array into a quantum state\n",
    "\n",
    "\n",
    "\n",
    "**NOTE** \n",
    "1. Please refrain from adding any kinds of statements other than comments in the designated code block, this may result in wrong output \n",
    "2. You can assume that the input params m and array consist only of positive integers \n",
    "3. Note that the circuit should not contain any measurement operations as the full statevector of your quantum state would be compared "
   ]
  },
  {
   "cell_type": "code",
   "execution_count": 4,
   "id": "8d6039f9",
   "metadata": {
    "ExecuteTime": {
     "end_time": "2022-10-04T10:36:34.618311Z",
     "start_time": "2022-10-04T10:36:34.613408Z"
    }
   },
   "outputs": [],
   "source": [
    "def qram_rotations(n, rotations):\n",
    "    \n",
    "    ### your code here \n",
    "    \n",
    "    ### your code here \n",
    "    \n",
    "    return qram"
   ]
  },
  {
   "cell_type": "code",
   "execution_count": null,
   "id": "8825b18a",
   "metadata": {
    "ExecuteTime": {
     "end_time": "2022-10-04T10:36:29.108131Z",
     "start_time": "2022-10-04T10:36:28.959054Z"
    }
   },
   "outputs": [],
   "source": [
    "from graders.problem_5.grader import grader3 \n",
    "grader3.evaluate(qram_rotations)"
   ]
  }
 ],
 "metadata": {
  "kernelspec": {
   "display_name": "Python 3",
   "language": "python",
   "name": "python3"
  },
  "language_info": {
   "codemirror_mode": {
    "name": "ipython",
    "version": 3
   },
   "file_extension": ".py",
   "mimetype": "text/x-python",
   "name": "python",
   "nbconvert_exporter": "python",
   "pygments_lexer": "ipython3",
   "version": "3.8.10"
  }
 },
 "nbformat": 4,
 "nbformat_minor": 5
}
