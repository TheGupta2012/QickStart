{
 "cells": [
  {
   "cell_type": "markdown",
   "id": "469c4405",
   "metadata": {},
   "source": [
    "# Problem 4 - Deutsch Josza \n",
    "\n",
    "This is a problem which would refine your knowledge about an algorithm which we have learned in one of our workshops. The Deutsch-Jozsa algorithm was one of the first to demonstrate a quantum advantage. Let us revise what we learnt in the lectures. \n",
    "\n",
    "The Deutsch-Jozsa algorithm is used to identify the *type* of a black box function. We are given a function which takes in binary inputs over the set $\\{0,1\\}^N$ ($N$ is an integer) and gives an output of either $0\\ or\\ 1$. For example :\n",
    "\n",
    "- Let $\\mathcal{f}$ be a function which accepts a 3 bit binary input\n",
    "- Then the set of **possible inputs** will be $\\{000,\\ 001,\\ 010,\\ 011,\\ 100,\\ 101,\\ 110,\\ 111\\}$\n",
    "- Also, since the set of **possible outputs** is $\\{0,\\ 1\\}$, we can have a function such as $\\mathcal{f}(001) = 0$, $\\mathcal{f}(101) = 1$, etc.\n",
    "\n",
    "- In the Deutsch-Jozsa algorithm we are given such a function which will satisfy only one of the following properties - \n",
    "    - $\\mathcal{f}$ is **constant** : it always returns the same value (it can be 0 or 1).\n",
    "    - $\\mathcal{f}$ is **balanced** : for half of the inputs the value is 0, and for the other half it is 1. \n"
   ]
  },
  {
   "cell_type": "markdown",
   "id": "c00ffe84",
   "metadata": {},
   "source": [
    "## Task \n",
    "- You have to build different Deutsch - Jozsa oracles to identify the types of functions given to you\n",
    "- Each level contains different versions of this task, with varying levels of difficulties\n",
    "- All the levels are described as below \n",
    "- Your `QuantumCircuit` will be used as the oracle $U_f$ in the following circuit and results would be evaluated depedning on type of function given.\n",
    "\n",
    "<img src='resources/problem-4/deutsch_steps.png' width = 60%>"
   ]
  },
  {
   "cell_type": "markdown",
   "id": "86120169",
   "metadata": {},
   "source": [
    "### Level 1 - 50 points\n",
    "- Given a 2 bit function as an input, determine whether it is balanced or constant. \n",
    "- You need to make a 2 qubit Deutsch - Josza oracle depending on the function which you are given as input. \n",
    "- You would need to build an oracle which when **applied as the Deutsch Josza oracle**, outputs a $0$ on the input register when $\\mathcal\\{f\\}$ is **balanced**, and $1$ if it is **constant** (revisit the lecture slides if you're not sure about the circuit!)\n"
   ]
  },
  {
   "cell_type": "markdown",
   "id": "6dba9490",
   "metadata": {},
   "source": [
    "#### To submit \n",
    "- Create a function which would accept a parameter `function`\n",
    "- `function` will be a list of 4 elements from the set `{0,1}`\n",
    "- Each element `function[i]` represents the output value for the binary value of **i** as input.\n",
    "- Depending on this function, you need to build and return a `QuantumCircuit` object of size `3` qubits \n",
    "- This `QuantumCircuit` will be run on the simulator and the first `2` qubits will be measured. \n",
    "\n",
    "**NOTE** \n",
    "1. Please refrain from adding any kinds of statements other than comments in the designated code block, this may result in wrong output \n",
    "2. You can assume that the input function always has valid inputs and is either constant or balanced"
   ]
  },
  {
   "cell_type": "markdown",
   "id": "1bc2e9d3",
   "metadata": {},
   "source": [
    "#### Example Testcase "
   ]
  },
  {
   "cell_type": "markdown",
   "id": "33d07310",
   "metadata": {},
   "source": [
    "- You may be given a function $\\mathcal{f}$ which has the following structure : \n",
    "    - $\\mathcal{f}(00) = 0$\n",
    "    - $\\mathcal{f}(01) = 1$\n",
    "    - $\\mathcal{f}(10) = 1$\n",
    "    - $\\mathcal{f}(11) = 0$\n",
    "    \n",
    "- Now the test case would look like - \n",
    "\n",
    "```python\n",
    "\n",
    "# each index is represented by the binary input \n",
    "function = [0, 1, 1, 0] \n",
    "\n",
    "# your dj oracle\n",
    "dj_oracle = dj_oracle_2q(function)\n",
    "```\n",
    "\n"
   ]
  },
  {
   "cell_type": "code",
   "execution_count": null,
   "id": "6de84a74",
   "metadata": {},
   "outputs": [],
   "source": [
    "from qiskit import QuantumCircuit \n",
    "\n",
    "def dj_oracle_2q(function):\n",
    "    \n",
    "    oracle = QuantumCircuit(3)\n",
    "    ### Your code here \n",
    "    \n",
    "    ### Your code here \n",
    "    \n",
    "    return oracle "
   ]
  },
  {
   "cell_type": "code",
   "execution_count": null,
   "id": "7746f24a",
   "metadata": {},
   "outputs": [],
   "source": [
    "from graders.problem_4.grader import grader1 \n",
    "grader1.evaluate(dj_oracle_2q)"
   ]
  },
  {
   "cell_type": "markdown",
   "id": "0e566bba",
   "metadata": {},
   "source": [
    "### Level 2 - 75 points\n",
    "- This level is an extension of level 1.\n",
    "- Here, the input function will be a **4-bit function** with 16 possible inputs\n",
    "- You would need to build a `QuantumCircuit` which when **applied as the Deutsch Josza oracle**, outputs a  0  on the input register when $\\mathcal{f}$ is balanced, and 1 if it is constant\n"
   ]
  },
  {
   "cell_type": "markdown",
   "id": "eefe704e",
   "metadata": {},
   "source": [
    "#### To submit \n",
    "- Create a function which would accept a parameter `function`\n",
    "- `function` will be a list of 16 elements from the set `{0,1}`\n",
    "- Depending on this function, you need to build and return a `QuantumCircuit` object of size `5` qubits \n",
    "- This `QuantumCircuit` will be used as the oracle in the Deutsch Josza algorithm and the first `4` qubits will be measured. \n",
    "\n",
    "\n",
    "**NOTE** \n",
    "1. Please refrain from adding any kinds of statements other than comments in the designated code block, this may result in wrong output \n",
    "2. You can assume that the input function always has valid inputs and is either constant or balanced"
   ]
  },
  {
   "cell_type": "code",
   "execution_count": 11,
   "id": "ca326f3c",
   "metadata": {
    "ExecuteTime": {
     "end_time": "2022-10-03T17:44:56.711710Z",
     "start_time": "2022-10-03T17:44:56.707265Z"
    }
   },
   "outputs": [],
   "source": [
    "from qiskit import QuantumCircuit \n",
    "\n",
    "def dj_oracle_4q(function):\n",
    "    \n",
    "    oracle = QuantumCircuit(5)\n",
    "    ### Your code here \n",
    "    \n",
    "    ### Your code here \n",
    "    \n",
    "    return oracle "
   ]
  },
  {
   "cell_type": "code",
   "execution_count": null,
   "id": "e39ba6e9",
   "metadata": {
    "ExecuteTime": {
     "end_time": "2022-10-03T17:44:56.987993Z",
     "start_time": "2022-10-03T17:44:56.970459Z"
    }
   },
   "outputs": [],
   "source": [
    "from graders.problem_4.grader import grader2\n",
    "grader2.evaluate(dj_oracle_2q)"
   ]
  },
  {
   "cell_type": "markdown",
   "id": "01f22a61",
   "metadata": {},
   "source": [
    "### Level 3 - 125 points (confirm this)\n",
    "- In this last level you are given a set of functions! \n",
    "- You will be given a set of $K$ functions. \n",
    "- Each function will take an $n$ bit input string and will have a corresponding output. \n",
    "- Your task is to build a **full quantum circuit** which will determine the **distribution** of functions.\n",
    "- For example :\n",
    "    - We have $N = 2$ and $K = 4$\n",
    "    - $F_1 = [1,0,0,1],\\ Balanced$\n",
    "    - $F_2 = [0,0,0,0],\\ Constant$\n",
    "    - $F_3 = [1,1,0,0],\\ Balanced$\n",
    "    - $F_4 = [1,0,1,0],\\ Balanced$\n",
    "    - This means that your function should generate $0,1,0,0$ on the last $K$ qubits of your `QuantumCircuit`\n",
    "- You may not use more than $N+K+1$ qubits in your final circuit\n",
    "\n",
    "#### Constraints \n",
    "- $2 <= N <= 5$\n",
    "- $1 <= K <= 6$ \n"
   ]
  },
  {
   "cell_type": "markdown",
   "id": "e3e8c466",
   "metadata": {},
   "source": [
    "#### To submit \n",
    "- Create a function which would accept parameters `n`, `k` and `function_list`\n",
    "- `function_list` will be a list of `k` functions each having `n` bit input size\n",
    "- Depending on this function, you need to build and return a `QuantumCircuit` object of size at max `n + k + 1` qubits \n",
    "- You also need to have measurement operations present on the last `k` qubits of your circuit\n",
    "- This `QuantumCircuit` will be run and the binary output should match the original function distribution.\n",
    "\n",
    "\n",
    "**NOTE** \n",
    "1. Please refrain from adding any kinds of statements other than comments in the designated code block, this may result in wrong output \n",
    "2. You can assume that the input functions always have valid inputs and is either constant or balanced"
   ]
  },
  {
   "cell_type": "code",
   "execution_count": null,
   "id": "fa03ab6b",
   "metadata": {},
   "outputs": [],
   "source": [
    "def dj_function_distribution(N, K, function_list):\n",
    "    ### your code here \n",
    "    \n",
    "    ### your code here \n",
    "    \n",
    "    return oracle "
   ]
  },
  {
   "cell_type": "code",
   "execution_count": null,
   "id": "b53e362e",
   "metadata": {},
   "outputs": [],
   "source": [
    "from graders.problem_4.grader import grader3\n",
    "grader3.evaluate(dj_function_distribution)"
   ]
  }
 ],
 "metadata": {
  "kernelspec": {
   "display_name": "Python 3",
   "language": "python",
   "name": "python3"
  },
  "language_info": {
   "codemirror_mode": {
    "name": "ipython",
    "version": 3
   },
   "file_extension": ".py",
   "mimetype": "text/x-python",
   "name": "python",
   "nbconvert_exporter": "python",
   "pygments_lexer": "ipython3",
   "version": "3.8.10"
  }
 },
 "nbformat": 4,
 "nbformat_minor": 5
}
