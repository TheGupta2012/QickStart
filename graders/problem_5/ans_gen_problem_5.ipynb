{
 "cells": [
  {
   "cell_type": "code",
   "execution_count": 1,
   "id": "d60e08e1",
   "metadata": {
    "ExecuteTime": {
     "end_time": "2022-10-07T08:16:18.516474Z",
     "start_time": "2022-10-07T08:16:17.269230Z"
    }
   },
   "outputs": [],
   "source": [
    "from numpy import ceil, log2, floor, pi\n",
    "import json\n",
    "from qiskit.circuit import QuantumCircuit, QuantumRegister\n",
    "from qiskit import Aer, execute, qpy\n",
    "sv_backend = Aer.get_backend('statevector_simulator')"
   ]
  },
  {
   "cell_type": "code",
   "execution_count": 2,
   "id": "a2f54728",
   "metadata": {
    "ExecuteTime": {
     "end_time": "2022-10-07T08:16:18.525020Z",
     "start_time": "2022-10-07T08:16:18.519208Z"
    }
   },
   "outputs": [],
   "source": [
    "def test_loader_1(file_path):\n",
    "    # make it faster ...\n",
    "    with open(file_path, \"r\") as file:\n",
    "\n",
    "        for row_id, row in enumerate(file):\n",
    "            if row_id == 0:\n",
    "                n, m = row.split()\n",
    "                n, m = int(n), int(m)\n",
    "            else:\n",
    "                array = [int(x) for x in row.split()]\n",
    "\n",
    "    return n, m, array"
   ]
  },
  {
   "cell_type": "code",
   "execution_count": 3,
   "id": "197c1dd4",
   "metadata": {
    "ExecuteTime": {
     "end_time": "2022-10-07T08:16:18.672097Z",
     "start_time": "2022-10-07T08:16:18.528513Z"
    }
   },
   "outputs": [],
   "source": [
    "def test_loader_2(file_path):\n",
    "    # make it faster ...\n",
    "    n, rotations = None, []\n",
    "\n",
    "    with open(file_path, \"r\") as file:\n",
    "        for row_id, row in enumerate(file):\n",
    "            if row_id == 0:\n",
    "                n = int(row)\n",
    "            else:\n",
    "                r_type, value = row.split()\n",
    "                value = float(value)\n",
    "                rotations.append((r_type, value))\n",
    "\n",
    "    return n, rotations"
   ]
  },
  {
   "cell_type": "code",
   "execution_count": 4,
   "id": "2c7b777c",
   "metadata": {
    "ExecuteTime": {
     "end_time": "2022-10-07T08:16:18.781748Z",
     "start_time": "2022-10-07T08:16:18.677388Z"
    }
   },
   "outputs": [],
   "source": [
    "INPUT_PATH = \"tests/inputs/\"\n",
    "OUTPUT_PATH = \"tests/outputs/\""
   ]
  },
  {
   "cell_type": "code",
   "execution_count": 5,
   "id": "070932d8",
   "metadata": {
    "ExecuteTime": {
     "end_time": "2022-10-07T08:16:24.531788Z",
     "start_time": "2022-10-07T08:16:24.516532Z"
    }
   },
   "outputs": [],
   "source": [
    "def get_qram(N, M, array):\n",
    "    index = 0\n",
    "    index_size = int(ceil(log2(N)))\n",
    "    value_size = int(floor(log2(M))) + 1\n",
    "\n",
    "    index_reg = QuantumRegister(name=\"index\", size=index_size)\n",
    "    value_reg = QuantumRegister(name=\"value\", size=value_size)\n",
    "\n",
    "    circ = QuantumCircuit(index_reg, value_reg, name=\"oracle\")\n",
    "    circ.h(index_reg)\n",
    "    # to store circuits for previously seen elements\n",
    "    circ_cache = {}\n",
    "\n",
    "    def get_elem_circ(elem, idx):\n",
    "        # analyse this element\n",
    "        if elem in circ_cache:\n",
    "            elem_circ = circ_cache[elem]\n",
    "        else:\n",
    "            bin_rep = bin(elem)[2:]\n",
    "            elem_circ = QuantumCircuit(value_size, name=f\"x_{idx}\")\n",
    "            bin_rep = bin_rep[::-1]\n",
    "\n",
    "            for i, bit in enumerate(bin_rep):\n",
    "                if bit == \"1\":\n",
    "                    elem_circ.x(i)\n",
    "            circ_cache[elem] = elem_circ\n",
    "\n",
    "        elem_circ = elem_circ.control(\n",
    "            num_ctrl_qubits=index_size, ctrl_state=idx)\n",
    "\n",
    "        return elem_circ\n",
    "\n",
    "    for elem in array:\n",
    "        circuit = get_elem_circ(elem, index)\n",
    "        circuit.name = f\"x_{index}\"\n",
    "        circ.compose(circuit, inplace=True)\n",
    "        index += 1\n",
    "\n",
    "    del circ_cache\n",
    "\n",
    "    return circ"
   ]
  },
  {
   "cell_type": "code",
   "execution_count": 6,
   "id": "b432161f",
   "metadata": {
    "ExecuteTime": {
     "end_time": "2022-10-07T08:16:25.540248Z",
     "start_time": "2022-10-07T08:16:25.518803Z"
    }
   },
   "outputs": [],
   "source": [
    "def get_qram_rotations(N, rotations):\n",
    "    index = 0\n",
    "    index_size = int(ceil(log2(N)))\n",
    "    value_size = 1\n",
    "\n",
    "    index_reg = QuantumRegister(name=\"index\", size=index_size)\n",
    "    value_reg = QuantumRegister(name=\"value\", size=value_size)\n",
    "\n",
    "    circ = QuantumCircuit(index_reg, value_reg, name=\"oracle\")\n",
    "    circ.h(index_reg)\n",
    "    # to store circuits for previously seen elements\n",
    "\n",
    "    def get_elem_circ(idx, rot_type, angle):\n",
    "        # analyse this element\n",
    "\n",
    "        elem_circ = QuantumCircuit(value_size, name=f\"{rot_type}_{round(angle,4)}\")\n",
    "        if rot_type == 'x':\n",
    "            elem_circ.rx(2*pi * angle, 0)\n",
    "        elif rot_type == 'y':\n",
    "            elem_circ.ry(2*pi*angle, 0)\n",
    "        else:\n",
    "            elem_circ.rz(2*pi*angle, 0)\n",
    "\n",
    "        elem_circ = elem_circ.control(\n",
    "            num_ctrl_qubits=index_size, ctrl_state=idx)\n",
    "\n",
    "        return elem_circ\n",
    "\n",
    "    for elem in rotations:\n",
    "        rot_type, angle = elem\n",
    "        circuit = get_elem_circ(index, rot_type, angle)\n",
    "        circuit.name = f\"x_{index}\"\n",
    "        circ.compose(circuit, inplace=True)\n",
    "        index += 1\n",
    "\n",
    "    return circ"
   ]
  },
  {
   "cell_type": "code",
   "execution_count": 7,
   "id": "5c7668ba",
   "metadata": {
    "ExecuteTime": {
     "end_time": "2022-10-07T08:16:26.460923Z",
     "start_time": "2022-10-07T08:16:26.453504Z"
    }
   },
   "outputs": [],
   "source": [
    "def output_saver(file_path, circ):\n",
    "#     circ.qasm(filename = file_path)\n",
    "    with open(file_path, 'wb') as file:\n",
    "        qpy.dump(circ, file)"
   ]
  },
  {
   "cell_type": "code",
   "execution_count": 10,
   "id": "188cc75a",
   "metadata": {
    "ExecuteTime": {
     "end_time": "2022-10-07T08:17:14.498737Z",
     "start_time": "2022-10-07T08:17:14.486394Z"
    }
   },
   "outputs": [],
   "source": [
    "class answer_gen_1:\n",
    "    ip_task_path = INPUT_PATH + \"task-1-\"\n",
    "    op_task_path = OUTPUT_PATH + \"task-1-\"\n",
    "    total_tests = 10\n",
    "\n",
    "    @classmethod\n",
    "    def generate_answer(cls):\n",
    "        for test in range(answer_gen_1.total_tests):\n",
    "            ip_test_path = cls.ip_task_path + str(test) + \".txt\"\n",
    "            n, m, array = test_loader_1(ip_test_path)\n",
    "\n",
    "            qram = get_qram(n, m, array)\n",
    "            print(\"Path : \", ip_test_path)\n",
    "            print(array)\n",
    "            print(\"Statevector is : \")\n",
    "\n",
    "            sv = execute(qram, sv_backend).result().get_statevector()\n",
    "            sv = sv.to_dict()\n",
    "            print(sv)\n",
    "\n",
    "            print(display(qram.draw('mpl')))\n",
    "\n",
    "            # store to the outputs\n",
    "#             op_test_path = cls.op_task_path + str(test) + \".qpy\"\n",
    "#             output_saver(op_test_path, qram)"
   ]
  },
  {
   "cell_type": "code",
   "execution_count": null,
   "id": "8d973e29",
   "metadata": {
    "ExecuteTime": {
     "end_time": "2022-10-07T08:17:22.050433Z",
     "start_time": "2022-10-07T08:17:16.400622Z"
    }
   },
   "outputs": [],
   "source": [
    "answer_gen_1.generate_answer()"
   ]
  },
  {
   "cell_type": "code",
   "execution_count": 181,
   "id": "220e3dca",
   "metadata": {
    "ExecuteTime": {
     "end_time": "2022-10-06T07:34:19.796936Z",
     "start_time": "2022-10-06T07:34:19.792298Z"
    }
   },
   "outputs": [],
   "source": [
    "class answer_gen_2:\n",
    "    ip_task_path = INPUT_PATH + \"task-2-\"\n",
    "    op_task_path = OUTPUT_PATH + \"task-2-\"\n",
    "    total_tests = 10\n",
    "\n",
    "    @classmethod\n",
    "    def generate_answer(cls):\n",
    "        for test in range(answer_gen_2.total_tests):\n",
    "            ip_test_path = cls.ip_task_path + str(test) + \".txt\"\n",
    "            n, m, array = test_loader_1(ip_test_path)\n",
    "\n",
    "            qram = get_qram(n, m, array)\n",
    "            print(\"Path : \", ip_test_path)\n",
    "            print(array)\n",
    "            print(\"Statevector is : \")\n",
    "\n",
    "            sv = execute(qram, sv_backend).result().get_statevector()\n",
    "            sv = sv.to_dict()\n",
    "            print(sv)\n",
    "\n",
    "#             print()\n",
    "\n",
    "            # store to the outputs\n",
    "            op_test_path = cls.op_task_path + str(test) + \".qpy\"\n",
    "            output_saver(op_test_path, qram)"
   ]
  },
  {
   "cell_type": "code",
   "execution_count": null,
   "id": "b0348ede",
   "metadata": {
    "ExecuteTime": {
     "end_time": "2022-10-06T07:34:27.797653Z",
     "start_time": "2022-10-06T07:34:27.120173Z"
    }
   },
   "outputs": [],
   "source": [
    "answer_gen_2.generate_answer()"
   ]
  },
  {
   "cell_type": "code",
   "execution_count": 184,
   "id": "71ffa8e0",
   "metadata": {
    "ExecuteTime": {
     "end_time": "2022-10-06T07:34:31.486630Z",
     "start_time": "2022-10-06T07:34:31.481741Z"
    }
   },
   "outputs": [],
   "source": [
    "class answer_gen_3:\n",
    "    ip_task_path = INPUT_PATH + \"task-3-\"\n",
    "    op_task_path = OUTPUT_PATH + \"task-3-\"\n",
    "    total_tests = 10\n",
    "\n",
    "    @classmethod\n",
    "    def generate_answer(cls):\n",
    "        for test in range(answer_gen_3.total_tests):\n",
    "            ip_test_path = cls.ip_task_path + str(test) + \".txt\"\n",
    "            n, rotations = test_loader_2(ip_test_path)\n",
    "\n",
    "            qram = get_qram_rotations(n, rotations)\n",
    "            print(\"Path : \", ip_test_path)\n",
    "            print(rotations)\n",
    "            print(\"Statevector is : \")\n",
    "\n",
    "            sv = execute(qram, sv_backend).result().get_statevector()\n",
    "            sv = sv.to_dict()\n",
    "            print(sv)\n",
    "\n",
    "            print()\n",
    "\n",
    "            # store to the outputs\n",
    "            op_test_path = cls.op_task_path + str(test) + \".qpy\"\n",
    "            output_saver(op_test_path, qram)"
   ]
  },
  {
   "cell_type": "code",
   "execution_count": null,
   "id": "704ed6e6",
   "metadata": {
    "ExecuteTime": {
     "end_time": "2022-10-06T07:34:43.056371Z",
     "start_time": "2022-10-06T07:34:33.908512Z"
    }
   },
   "outputs": [],
   "source": [
    "answer_gen_3.generate_answer()"
   ]
  },
  {
   "cell_type": "markdown",
   "id": "02a71fa3",
   "metadata": {},
   "source": [
    "#### Test `qpy`"
   ]
  },
  {
   "cell_type": "code",
   "execution_count": 196,
   "id": "8025e542",
   "metadata": {
    "ExecuteTime": {
     "end_time": "2022-10-06T07:44:31.372926Z",
     "start_time": "2022-10-06T07:44:31.353355Z"
    }
   },
   "outputs": [
    {
     "data": {
      "text/html": [
       "<pre style=\"word-wrap: normal;white-space: pre;background: #fff0;line-height: 1.1;font-family: &quot;Courier New&quot;,Courier,monospace\">         ┌───┐                                \n",
       "index_0: ┤ H ├───o───────■───────o───────■────\n",
       "         ├───┤   │       │       │       │    \n",
       "index_1: ┤ H ├───o───────o───────■───────■────\n",
       "         └───┘┌──┴───┐┌──┴───┐┌──┴───┐┌──┴───┐\n",
       "value_0: ─────┤0     ├┤0     ├┤0     ├┤0     ├\n",
       "              │      ││      ││      ││      │\n",
       "value_1: ─────┤1 x_0 ├┤1 x_1 ├┤1 x_2 ├┤1 x_3 ├\n",
       "              │      ││      ││      ││      │\n",
       "value_2: ─────┤2     ├┤2     ├┤2     ├┤2     ├\n",
       "              └──────┘└──────┘└──────┘└──────┘</pre>"
      ],
      "text/plain": [
       "         ┌───┐                                \n",
       "index_0: ┤ H ├───o───────■───────o───────■────\n",
       "         ├───┤   │       │       │       │    \n",
       "index_1: ┤ H ├───o───────o───────■───────■────\n",
       "         └───┘┌──┴───┐┌──┴───┐┌──┴───┐┌──┴───┐\n",
       "value_0: ─────┤0     ├┤0     ├┤0     ├┤0     ├\n",
       "              │      ││      ││      ││      │\n",
       "value_1: ─────┤1 x_0 ├┤1 x_1 ├┤1 x_2 ├┤1 x_3 ├\n",
       "              │      ││      ││      ││      │\n",
       "value_2: ─────┤2     ├┤2     ├┤2     ├┤2     ├\n",
       "              └──────┘└──────┘└──────┘└──────┘"
      ]
     },
     "execution_count": 196,
     "metadata": {},
     "output_type": "execute_result"
    }
   ],
   "source": [
    "circ = get_qram(4, 4, [1,2,3,4])\n",
    "circ.draw()"
   ]
  },
  {
   "cell_type": "code",
   "execution_count": null,
   "id": "c6f957af",
   "metadata": {
    "ExecuteTime": {
     "end_time": "2022-10-06T07:44:33.718785Z",
     "start_time": "2022-10-06T07:44:33.702632Z"
    }
   },
   "outputs": [],
   "source": [
    "with open(\"test.qpy\", 'wb') as f:\n",
    "    qpy.dump(circ,f)\n",
    "    \n",
    "with open(\"test.qpy\", 'rb') as f:\n",
    "    circ2 = qpy.load(f)[0]\n",
    "    \n",
    "circ2.draw()"
   ]
  },
  {
   "cell_type": "code",
   "execution_count": null,
   "id": "65bb9edc",
   "metadata": {},
   "outputs": [],
   "source": []
  }
 ],
 "metadata": {
  "kernelspec": {
   "display_name": "Python 3",
   "language": "python",
   "name": "python3"
  },
  "language_info": {
   "codemirror_mode": {
    "name": "ipython",
    "version": 3
   },
   "file_extension": ".py",
   "mimetype": "text/x-python",
   "name": "python",
   "nbconvert_exporter": "python",
   "pygments_lexer": "ipython3",
   "version": "3.8.10"
  },
  "vscode": {
   "interpreter": {
    "hash": "916dbcbb3f70747c44a77c7bcd40155683ae19c65e1c03b4aa3499c5328201f1"
   }
  }
 },
 "nbformat": 4,
 "nbformat_minor": 5
}
