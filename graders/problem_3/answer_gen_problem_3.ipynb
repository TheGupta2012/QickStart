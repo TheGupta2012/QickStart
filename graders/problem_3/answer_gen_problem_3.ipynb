{
 "cells": [
  {
   "cell_type": "code",
   "execution_count": 1,
   "id": "e2f2f634",
   "metadata": {
    "ExecuteTime": {
     "end_time": "2022-10-08T06:29:28.732867Z",
     "start_time": "2022-10-08T06:29:28.349825Z"
    }
   },
   "outputs": [],
   "source": [
    "from qiskit import QuantumCircuit , execute, Aer \n",
    "from numpy import pi "
   ]
  },
  {
   "cell_type": "code",
   "execution_count": 2,
   "id": "c1f91c76",
   "metadata": {
    "ExecuteTime": {
     "end_time": "2022-10-08T06:29:28.738231Z",
     "start_time": "2022-10-08T06:29:28.734517Z"
    }
   },
   "outputs": [],
   "source": [
    "def test_loader(file_path):\n",
    "    # make it faster ...\n",
    "    arz, arx, ary = [], [], []\n",
    "    \n",
    "    with open(file_path, \"r\") as file:\n",
    "        for row_id, row in enumerate(file):\n",
    "            if row_id == 0:\n",
    "                state = row[0]\n",
    "            else:\n",
    "                elements = [int(x) for x in row[:-1].split(\",\")]\n",
    "                if row_id == 1:\n",
    "                    arz = elements\n",
    "                elif row_id == 2:\n",
    "                    arx = elements \n",
    "                else:\n",
    "                    ary = elements\n",
    "\n",
    "    return state, arz, arx, ary"
   ]
  },
  {
   "cell_type": "code",
   "execution_count": 3,
   "id": "0ccc4baf",
   "metadata": {
    "ExecuteTime": {
     "end_time": "2022-10-08T06:29:28.882909Z",
     "start_time": "2022-10-08T06:29:28.740018Z"
    }
   },
   "outputs": [],
   "source": [
    "INPUT_PATH = \"tests/inputs/\"\n",
    "OUTPUT_PATH = \"tests/outputs/\""
   ]
  },
  {
   "cell_type": "code",
   "execution_count": 4,
   "id": "4d4b3cbf",
   "metadata": {
    "ExecuteTime": {
     "end_time": "2022-10-08T06:29:28.992408Z",
     "start_time": "2022-10-08T06:29:28.886825Z"
    }
   },
   "outputs": [],
   "source": [
    "def initialize(state, qc):\n",
    "    if state == \"1\":\n",
    "        qc.x(0)\n",
    "    elif state == \"+\":\n",
    "        qc.h(0)\n",
    "    elif state == \"-\":\n",
    "        qc.x(0)\n",
    "        qc.h(0)\n",
    "    elif state == \"r\":\n",
    "        qc.h(0)\n",
    "        qc.s(0)\n",
    "    elif state == \"l\":\n",
    "        qc.h(0)\n",
    "        qc.rz(-pi*0.5, 0)"
   ]
  },
  {
   "cell_type": "code",
   "execution_count": 5,
   "id": "eb22d35e",
   "metadata": {
    "ExecuteTime": {
     "end_time": "2022-10-08T06:29:29.381607Z",
     "start_time": "2022-10-08T06:29:28.996135Z"
    }
   },
   "outputs": [],
   "source": [
    "backend = Aer.get_backend('qasm_simulator')\n",
    "def brute_bloch_ops(state, arz, arx, ary):\n",
    "    total = 0\n",
    "    qc_list = []\n",
    "    for z in arz:\n",
    "        for x in arx:\n",
    "            for y in ary:\n",
    "                qc = QuantumCircuit(1)\n",
    "                initialize(state, qc)\n",
    "                \n",
    "                qc.rz(z*pi/2,0)\n",
    "                qc.rx(x*pi/2,0)\n",
    "                qc.ry(y*pi/2,0)\n",
    "                \n",
    "                qc.measure_all()\n",
    "                qc_list.append(qc)\n",
    "                \n",
    "    \n",
    "    counts = execute(qc_list, backend, shots = 20).result().get_counts()\n",
    "    if isinstance(counts,dict):\n",
    "        counts = [counts]\n",
    "    \n",
    "    for count in counts:\n",
    "        if len(count) == 1 and \"0\" in count:\n",
    "            total+=1\n",
    "    \n",
    "    return total"
   ]
  },
  {
   "cell_type": "code",
   "execution_count": 13,
   "id": "79d9fe4c",
   "metadata": {
    "ExecuteTime": {
     "end_time": "2022-10-08T06:33:04.401509Z",
     "start_time": "2022-10-08T06:33:04.391535Z"
    }
   },
   "outputs": [],
   "source": [
    "def get_total_bloch_ops(state, arz, arx, ary):\n",
    "    # optimized version\n",
    "    def handle_rot(angle):\n",
    "        return angle % 4 \n",
    "        \n",
    "    ARZ, ARX, ARY = {}, {}, {}\n",
    "    \n",
    "    for i in range(4):\n",
    "        ARZ[i] = ARX[i] = ARY[i] = 0 \n",
    "        \n",
    "    for i in arz:\n",
    "        net_z = handle_rot(i)\n",
    "        ARZ[net_z] += 1\n",
    "        \n",
    "    for j in arx:\n",
    "        net_x = handle_rot(j)\n",
    "        ARX[net_x] += 1\n",
    "        \n",
    "    for k in ary:\n",
    "        net_y = handle_rot(k)\n",
    "        ARY[net_y] += 1\n",
    "        \n",
    "    # now evaluate answer \n",
    "    product_dict = {}\n",
    "    \n",
    "    for i in range(4):\n",
    "        for j in range(4):\n",
    "            for k in range(4):\n",
    "                product_dict[(i,j,k)] = ARZ[i]*ARX[j]*ARY[k]\n",
    "                \n",
    "    total = 0 \n",
    "    \n",
    "    \n",
    "    if state == '0':\n",
    "        # every z rotation is okay \n",
    "        \n",
    "        total+= len(arz) * ARX[0] * ARY[0]\n",
    "        total+= len(arz) * ARX[2] * ARY[2]\n",
    "        \n",
    "    elif state == '1':\n",
    "        \n",
    "        # here, if x as 0, then y as 2 \n",
    "        \n",
    "        # if x as 2, y as 0 \n",
    "        total+= len(arz) * ARX[0] * ARY[2]\n",
    "        total+= len(arz) * ARX[2] * ARY[0]\n",
    "        \n",
    "    elif state == '+':\n",
    "        \n",
    "        total += ARZ[1]*ARX[1]*ARY[0]\n",
    "        total += ARZ[1]*ARX[3]*ARY[2]\n",
    "        \n",
    "        total += ARZ[3]*ARX[1]*ARY[2]\n",
    "        total += ARZ[3]*ARX[3]*ARY[0]\n",
    "        \n",
    "        total += ARZ[0]*len(arx)*ARY[3]\n",
    "        total += ARZ[2]*len(arx)*ARY[1]\n",
    "        \n",
    "        \n",
    "    elif state == '-':\n",
    "        \n",
    "        total += product_dict[(1,1,2)] \n",
    "        total += product_dict[(1,3,0)]\n",
    "        \n",
    "        total += product_dict[(3,1,0)]\n",
    "        total += product_dict[(3,3,2)]\n",
    "        \n",
    "        total += ARZ[0]*len(arx)*ARY[1]\n",
    "        total += ARZ[2]*len(arx)*ARY[3]\n",
    "            \n",
    "    elif state == 'r':\n",
    "        \n",
    "        total += product_dict[(0,1,0)] + product_dict[(0,3,2)]\n",
    "        \n",
    "        total += product_dict[(2,1,2)] + product_dict[(2,3,0)]\n",
    "        \n",
    "        total += ARZ[3]*len(arx)*ARY[3]\n",
    "        total += ARZ[1]*len(arx)*ARY[1]\n",
    "        \n",
    "    else:\n",
    "        # 'l'\n",
    "        \n",
    "        total += product_dict[(0,1,2)] + product_dict[(0,3,0)]\n",
    "        \n",
    "        total += product_dict[(2,1,0)] + product_dict[(2,3,2)]\n",
    "        \n",
    "        total += ARZ[1]*len(arx)*ARY[3]\n",
    "        total += ARZ[3]*len(arx)*ARY[1]\n",
    "        \n",
    "    return total \n",
    "    "
   ]
  },
  {
   "cell_type": "code",
   "execution_count": 7,
   "id": "96f65424",
   "metadata": {
    "ExecuteTime": {
     "end_time": "2022-10-08T06:29:29.524219Z",
     "start_time": "2022-10-08T06:29:29.394079Z"
    }
   },
   "outputs": [],
   "source": [
    "def output_saver(file_path, total_bloch_ops):\n",
    "    with open(file_path, 'w') as file:\n",
    "        file.write(str(total_bloch_ops))\n",
    "        file.write(\"\\n\")"
   ]
  },
  {
   "cell_type": "code",
   "execution_count": 8,
   "id": "29869c34",
   "metadata": {
    "ExecuteTime": {
     "end_time": "2022-10-08T06:29:29.670675Z",
     "start_time": "2022-10-08T06:29:29.529159Z"
    }
   },
   "outputs": [],
   "source": [
    "class answer_gen_2:\n",
    "    ip_task_path = INPUT_PATH + \"task-2-\"\n",
    "    op_task_path = OUTPUT_PATH + \"task-2-\"\n",
    "    total_tests = 10\n",
    "    \n",
    "    @classmethod\n",
    "    def generate_answer(cls):\n",
    "        for test in range(answer_gen_2.total_tests):\n",
    "            ip_test_path = cls.ip_task_path + str(test) + \".txt\"\n",
    "            state, arz, arx, ary = test_loader(ip_test_path)\n",
    "            print(\"Input test : \", ip_test_path)\n",
    "            total_bloch_ops = get_total_bloch_ops(state, arz, arx, ary)\n",
    "            brute = brute_bloch_ops(state, arz, arx, ary)\n",
    "            \n",
    "            if(total_bloch_ops != brute):\n",
    "                print(\"Wrong for test \",ip_test_path)\n",
    "                print(\"State : \", state)\n",
    "                print(\"Brute :\", brute)\n",
    "                print(\"Optimized :\", total_bloch_ops)\n",
    "            else:\n",
    "                print(\"Correct!\")\n",
    "            # store to the outputs \n",
    "            op_test_path = cls.op_task_path + str(test) + \".txt\"\n",
    "            \n",
    "            output_saver(op_test_path , total_bloch_ops)"
   ]
  },
  {
   "cell_type": "code",
   "execution_count": null,
   "id": "316d2d9d",
   "metadata": {
    "ExecuteTime": {
     "end_time": "2022-10-08T06:29:51.041983Z",
     "start_time": "2022-10-08T06:29:45.108047Z"
    }
   },
   "outputs": [],
   "source": [
    "answer_gen_2.generate_answer()"
   ]
  },
  {
   "cell_type": "code",
   "execution_count": 11,
   "id": "f185f363",
   "metadata": {
    "ExecuteTime": {
     "end_time": "2022-10-08T06:31:18.744642Z",
     "start_time": "2022-10-08T06:31:18.737997Z"
    }
   },
   "outputs": [],
   "source": [
    "class answer_gen_3:\n",
    "    ip_task_path = INPUT_PATH + \"task-3-\"\n",
    "    op_task_path = OUTPUT_PATH + \"task-3-\"\n",
    "    total_tests = 10\n",
    "    \n",
    "    @classmethod\n",
    "    def generate_answer(cls):\n",
    "        for test in range(answer_gen_3.total_tests):\n",
    "            ip_test_path = cls.ip_task_path + str(test) + \".txt\"\n",
    "            state, arz, arx, ary = test_loader(ip_test_path)\n",
    "            print(\"Input test : \", ip_test_path)\n",
    "            total_bloch_ops = get_total_bloch_ops(state, arz, arx, ary)\n",
    "#             brute = brute_bloch_ops(state, arz, arx, ary)\n",
    "            \n",
    "#             if(total_bloch_ops != brute):\n",
    "#                 print(\"Wrong for test \",ip_test_path)\n",
    "#                 print(\"State : \", state)\n",
    "#                 print(\"Brute :\", brute)\n",
    "#                 print(\"Optimized :\", total_bloch_ops)\n",
    "#             else:\n",
    "#                 print(\"Correct!\")\n",
    "            # store to the outputs \n",
    "            op_test_path = cls.op_task_path + str(test) + \".txt\"\n",
    "            \n",
    "            output_saver(op_test_path , total_bloch_ops)"
   ]
  },
  {
   "cell_type": "code",
   "execution_count": null,
   "id": "b28c35fd",
   "metadata": {
    "ExecuteTime": {
     "end_time": "2022-10-08T06:31:19.873871Z",
     "start_time": "2022-10-08T06:31:19.439269Z"
    }
   },
   "outputs": [],
   "source": [
    "answer_gen_3.generate_answer()"
   ]
  },
  {
   "cell_type": "code",
   "execution_count": null,
   "id": "868b3425",
   "metadata": {},
   "outputs": [],
   "source": []
  }
 ],
 "metadata": {
  "kernelspec": {
   "display_name": "Python 3",
   "language": "python",
   "name": "python3"
  },
  "language_info": {
   "codemirror_mode": {
    "name": "ipython",
    "version": 3
   },
   "file_extension": ".py",
   "mimetype": "text/x-python",
   "name": "python",
   "nbconvert_exporter": "python",
   "pygments_lexer": "ipython3",
   "version": "3.8.10"
  },
  "vscode": {
   "interpreter": {
    "hash": "916dbcbb3f70747c44a77c7bcd40155683ae19c65e1c03b4aa3499c5328201f1"
   }
  }
 },
 "nbformat": 4,
 "nbformat_minor": 5
}
