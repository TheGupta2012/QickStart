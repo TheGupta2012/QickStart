{
 "cells": [
  {
   "cell_type": "code",
   "execution_count": 31,
   "id": "d4be7ad6",
   "metadata": {
    "ExecuteTime": {
     "end_time": "2022-10-05T08:21:15.433000Z",
     "start_time": "2022-10-05T08:21:15.424204Z"
    }
   },
   "outputs": [],
   "source": [
    "from networkx.generators.random_graphs import gnm_random_graph, gnp_random_graph\n",
    "import numpy as np\n",
    "import random"
   ]
  },
  {
   "cell_type": "code",
   "execution_count": 36,
   "id": "923065c0",
   "metadata": {
    "ExecuteTime": {
     "end_time": "2022-10-05T08:29:24.947592Z",
     "start_time": "2022-10-05T08:29:24.660508Z"
    }
   },
   "outputs": [],
   "source": [
    "# Input format: First line contains two space separated integers N and M\n",
    "# Following M lines contains two space separated integers representing an edge\n",
    "# Integer Q\n",
    "# Following Q lines are queries\n",
    "path = \"task-2-\"\n",
    "\n",
    "for i in range(0, 10):\n",
    "    f_path = path + str(i) + \".txt\"\n",
    "    n = np.random.randint(2, 1001)\n",
    "    x = n*(n-1)/2\n",
    "    m = np.random.randint(n-1, min(10001,x))\n",
    "    q = np.random.randint(1, n-1)\n",
    "    \n",
    "    g = gnm_random_graph(n, m, seed=None, directed=False)\n",
    "    \n",
    "    \n",
    "    controls = random.sample(range(1,n-1), q)\n",
    "    targets = random.sample(range(1,n-1), q)\n",
    "    \n",
    "    l = [(x,y) for x,y in zip(controls, targets)]\n",
    "    \n",
    "    file = open(f_path, mode=\"w\", newline=\"\\n\")\n",
    "\n",
    "    file.write(str(n) + \" \" + str(m) + \"\\n\")\n",
    "\n",
    "    for i in g.edges:\n",
    "        for j in i:\n",
    "            file.write(str(j+1) + \" \")\n",
    "        file.write(\"\\n\")\n",
    "    \n",
    "    file.write(str(q) + \"\\n\")\n",
    "    \n",
    "    for i in l:\n",
    "        if i[0] == i[1]:\n",
    "            i = (i[0], i[0] + 1)\n",
    "        for j in i:\n",
    "            file.write(str(j+1) + \" \")\n",
    "        file.write(\"\\n\")\n",
    "\n",
    "    file.close()"
   ]
  },
  {
   "cell_type": "code",
   "execution_count": null,
   "id": "aca4ba08",
   "metadata": {},
   "outputs": [],
   "source": []
  },
  {
   "cell_type": "code",
   "execution_count": null,
   "id": "d8fd741a",
   "metadata": {},
   "outputs": [],
   "source": []
  }
 ],
 "metadata": {
  "kernelspec": {
   "display_name": "Python 3",
   "language": "python",
   "name": "python3"
  },
  "language_info": {
   "codemirror_mode": {
    "name": "ipython",
    "version": 3
   },
   "file_extension": ".py",
   "mimetype": "text/x-python",
   "name": "python",
   "nbconvert_exporter": "python",
   "pygments_lexer": "ipython3",
   "version": "3.8.10"
  }
 },
 "nbformat": 4,
 "nbformat_minor": 5
}
