{
 "cells": [
  {
   "cell_type": "code",
   "execution_count": 1,
   "id": "0731dec0",
   "metadata": {
    "ExecuteTime": {
     "end_time": "2022-10-05T08:29:30.480883Z",
     "start_time": "2022-10-05T08:29:30.467373Z"
    }
   },
   "outputs": [],
   "source": [
    "def test_loader(file_path):\n",
    "    # make it faster ...\n",
    "    with open(file_path, \"r\") as file:\n",
    "        controls = []\n",
    "        targets = []\n",
    "        connectivity = {}\n",
    "        \n",
    "        for row_id, row in enumerate(file):\n",
    "\n",
    "            # first row\n",
    "            if row_id == 0:\n",
    "                n, m = row.split()\n",
    "                n, m = int(n), int(m)\n",
    "                connectivity = {x : [] for x in range(1,n+1)}\n",
    "            # edge rows\n",
    "            elif row_id >= 1 and row_id <= m:\n",
    "                u, v = row.split()\n",
    "                u, v = int(u), int(v)\n",
    "\n",
    "                # add edge\n",
    "                connectivity[u].append(v)\n",
    "                connectivity[v].append(u)\n",
    "\n",
    "            # query row\n",
    "            elif row_id == m + 1:\n",
    "                continue  # queries row\n",
    "            else:\n",
    "                control, target = row.split()\n",
    "                control, target = int(control), int(target)\n",
    "\n",
    "                controls.append(control)\n",
    "                targets.append(target)\n",
    "\n",
    "    return n, m, controls, targets, connectivity\n"
   ]
  },
  {
   "cell_type": "code",
   "execution_count": 2,
   "id": "2b3f55bf",
   "metadata": {
    "ExecuteTime": {
     "end_time": "2022-10-05T08:29:30.615290Z",
     "start_time": "2022-10-05T08:29:30.486960Z"
    }
   },
   "outputs": [],
   "source": [
    "INPUT_PATH = \"tests/inputs/\"\n",
    "OUTPUT_PATH = \"tests/outputs/\""
   ]
  },
  {
   "cell_type": "code",
   "execution_count": 3,
   "id": "a09fde9b",
   "metadata": {
    "ExecuteTime": {
     "end_time": "2022-10-05T08:29:30.726201Z",
     "start_time": "2022-10-05T08:29:30.620737Z"
    }
   },
   "outputs": [],
   "source": [
    "from collections import deque \n",
    "def bfs_dist(src, dest, N, adj_list):\n",
    "    if src == dest:\n",
    "        return 0 \n",
    "    \n",
    "    visited = {\n",
    "        x : False for x in range(1,N+1)\n",
    "    }\n",
    "    distance = {\n",
    "        x : N+1 for x in range(1,N+1)\n",
    "    }\n",
    "    \n",
    "    visited[src] = True \n",
    "    distance[src] = 0\n",
    "    \n",
    "    queue = deque([src])\n",
    "    \n",
    "    while len(queue) > 0:\n",
    "        node = queue.popleft() \n",
    "        visited[node] = True \n",
    "        for child in adj_list[node]:\n",
    "            if not visited[child]:\n",
    "                distance[child] = distance[node] + 1\n",
    "                queue.append(child)\n",
    "    \n",
    "    # unreachable\n",
    "    if distance[dest] == N+1:\n",
    "        return -1\n",
    "    \n",
    "    return distance[dest] - 1\n",
    "    "
   ]
  },
  {
   "cell_type": "code",
   "execution_count": 4,
   "id": "db5d772e",
   "metadata": {
    "ExecuteTime": {
     "end_time": "2022-10-05T08:29:30.834701Z",
     "start_time": "2022-10-05T08:29:30.730939Z"
    }
   },
   "outputs": [],
   "source": [
    "def output_saver(file_path, min_swaps):\n",
    "    with open(file_path, 'w') as file:\n",
    "        _ = [file.write(str(min_swap)+\" \") for min_swap in min_swaps]\n",
    "        file.write(\"\\n\")"
   ]
  },
  {
   "cell_type": "code",
   "execution_count": 5,
   "id": "9aed95fc",
   "metadata": {
    "ExecuteTime": {
     "end_time": "2022-10-05T08:29:30.944049Z",
     "start_time": "2022-10-05T08:29:30.839814Z"
    }
   },
   "outputs": [],
   "source": [
    "def get_min_swaps(N, controls, targets, connectivity_map):\n",
    "    min_swaps = []\n",
    "    ### You code goes here \n",
    "    \n",
    "    # simple BFS for both of them \n",
    "    for control, target in zip(controls, targets):\n",
    "        min_swaps.append(bfs_dist(control, target, N, connectivity_map))    \n",
    "    ### your code goes here \n",
    "    \n",
    "    return min_swaps"
   ]
  },
  {
   "cell_type": "code",
   "execution_count": 6,
   "id": "849ed6f2",
   "metadata": {
    "ExecuteTime": {
     "end_time": "2022-10-05T08:29:31.078733Z",
     "start_time": "2022-10-05T08:29:30.949233Z"
    }
   },
   "outputs": [],
   "source": [
    "class answer_gen_1:\n",
    "    ip_task_path = INPUT_PATH + \"task-1-\"\n",
    "    op_task_path = OUTPUT_PATH + \"task-1-\"\n",
    "    total_tests = 10\n",
    "    \n",
    "    @classmethod\n",
    "    def generate_answer(cls):\n",
    "        for test in range(answer_gen_1.total_tests):\n",
    "            ip_test_path = cls.ip_task_path + str(test) + \".txt\"\n",
    "            n, m, controls, targets, connectivity = test_loader(ip_test_path)\n",
    "            min_swaps = get_min_swaps(n,controls,targets,connectivity)\n",
    "            \n",
    "            # store to the outputs \n",
    "            op_test_path = cls.op_task_path + str(test) + \".txt\"\n",
    "            \n",
    "            output_saver(op_test_path , min_swaps)"
   ]
  },
  {
   "cell_type": "code",
   "execution_count": 7,
   "id": "a7904e4b",
   "metadata": {
    "ExecuteTime": {
     "end_time": "2022-10-05T08:29:31.220665Z",
     "start_time": "2022-10-05T08:29:31.084760Z"
    }
   },
   "outputs": [],
   "source": [
    "answer_gen_1.generate_answer()"
   ]
  },
  {
   "cell_type": "code",
   "execution_count": 8,
   "id": "025b0029",
   "metadata": {
    "ExecuteTime": {
     "end_time": "2022-10-05T08:29:31.347978Z",
     "start_time": "2022-10-05T08:29:31.225442Z"
    }
   },
   "outputs": [],
   "source": [
    "class answer_gen_2:\n",
    "    ip_task_path = INPUT_PATH + \"task-2-\"\n",
    "    op_task_path = OUTPUT_PATH + \"task-2-\"\n",
    "    total_tests = 10\n",
    "    \n",
    "    @classmethod\n",
    "    def generate_answer(cls):\n",
    "        for test in range(answer_gen_1.total_tests):\n",
    "            ip_test_path = cls.ip_task_path + str(test) + \".txt\"\n",
    "            n, m, controls, targets, connectivity = test_loader(ip_test_path)\n",
    "            print(\"testing \",ip_test_path)\n",
    "            min_swaps = get_min_swaps(n,controls,targets,connectivity)\n",
    "            \n",
    "            # store to the outputs \n",
    "            op_test_path = cls.op_task_path + str(test) + \".txt\"\n",
    "            \n",
    "            output_saver(op_test_path , min_swaps)"
   ]
  },
  {
   "cell_type": "code",
   "execution_count": null,
   "id": "572a190b",
   "metadata": {
    "ExecuteTime": {
     "end_time": "2022-10-05T08:31:59.889844Z",
     "start_time": "2022-10-05T08:31:22.815656Z"
    }
   },
   "outputs": [],
   "source": [
    "answer_gen_2.generate_answer()"
   ]
  },
  {
   "cell_type": "code",
   "execution_count": null,
   "id": "d9193167",
   "metadata": {},
   "outputs": [],
   "source": []
  }
 ],
 "metadata": {
  "kernelspec": {
   "display_name": "Python 3",
   "language": "python",
   "name": "python3"
  },
  "language_info": {
   "codemirror_mode": {
    "name": "ipython",
    "version": 3
   },
   "file_extension": ".py",
   "mimetype": "text/x-python",
   "name": "python",
   "nbconvert_exporter": "python",
   "pygments_lexer": "ipython3",
   "version": "3.8.10"
  }
 },
 "nbformat": 4,
 "nbformat_minor": 5
}
